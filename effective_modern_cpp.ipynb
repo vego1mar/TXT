{
 "cells": [
  {
   "cell_type": "markdown",
   "metadata": {},
   "source": [
    "# EFFECTIVE MODERN C++"
   ]
  },
  {
   "cell_type": "markdown",
   "metadata": {},
   "source": [
    "<hr>"
   ]
  },
  {
   "cell_type": "markdown",
   "metadata": {},
   "source": [
    "## ITEMS\n",
    "\n",
    "- **Deducing types**<br>\n",
    "**Item 1**: Understand template type deduction.<br>\n",
    "**Item 2**: Understand `auto` type deduction.<br>\n",
    "**Item 3**: Understand `decltype`.<br>\n",
    "**Item 4**: Know how to view deduced types.<br>\n",
    "\n",
    "\n",
    "- **auto**<br>\n",
    "**Item 5**: Prefer `auto` to explicit type declarations.<br>\n",
    "**Item 6**: Use the `explicitly typed initializer idiom` when `auto` deduces undesired types.<br>\n",
    "\n",
    "\n",
    "- **Moving to modern C++**<br>\n",
    "**Item 7**: Distinguish between `()` and `{}` when creating objects.<br>\n",
    "**Item 8**: Prefer `nullptr` to `0` and `NULL`.<br>\n",
    "**Item 9**: Prefer `alias` declarations to `typedefs`.<br>\n",
    "**Item 10**: Prefer scoped enums to unscoped enums.<br>\n",
    "**Item 11**: Prefer deleted functions to private undefined ones.<br>\n",
    "**Item 12**: Declare overriding functions `override`.<br>\n",
    "**Item 13**: Prefer `const_iterators` to `iterators`.<br>\n",
    "**Item 14**: Declare functions `noexcept` if they won't emit exceptions.<br>\n",
    "**Item 15**: Use `constexpr` whenever possible.<br>\n",
    "**Item 16**: Make `const` member functions thread safe.<br>\n",
    "**Item 17**: Understand special member function generation.<br>\n",
    "\n",
    "\n",
    "- **Smart pointers**<br>\n",
    "**Item 18**: Use `std::unique_ptr` for exclusive-ownership resource management.<br>\n",
    "**Item 19**: Use `std::shared_ptr` for shared-ownership resource management.<br>\n",
    "**Item 20**: Use `std::weak_ptr` for `std::shared_ptr`-like pointers that can dangle.<br>\n",
    "**Item 21**: Prefer `std::make_unique` and `std::make_shared` to direct use of `new`.<br>\n",
    "**Item 22**: When using the `Pimpl Idiom`, define special member functions in the implementation file.\n",
    "\n",
    "\n",
    "- **Rvalue references, move semantics, and perfect forwarding**<br>\n",
    "**Item 23**: Understand `std::move` and `std::forward`.\n"
   ]
  },
  {
   "cell_type": "markdown",
   "metadata": {},
   "source": [
    "<hr>"
   ]
  },
  {
   "cell_type": "markdown",
   "metadata": {},
   "source": [
    "## PREFACE\n",
    "\n",
    "* `Rvalues` indicate object eligible for move operations, while `lvalues` generally don't.\n",
    "* `Rvalues` correspond to objects you can refer to, either by name or by following a pointer or `lvalue` reference.\n",
    "\n",
    "A useful heuristic to determine whether an expression is an `lvalue` is to ask if you can take its address. If you can, it typically is.\n",
    "\n",
    "<pre><code><font color=\"blue\">public:</font>\n",
    "    Widget(Widget<font color=\"blue\">&&</font> rhs);                       <font color=\"green\">// rhs (right hand side) is an rvalue</font>\n",
    "</code></pre>"
   ]
  },
  {
   "cell_type": "markdown",
   "metadata": {},
   "source": [
    "Copies of `rvalues` are generally move constructed, while copies of `lvalues` are usally copy constructed.\n",
    "\n",
    "<pre><code>\n",
    "<font color=\"blue\">void</font> someFunc(Widget w);\n",
    "someFunc(<font color=\"green\">std::move</font>(wid))                        <font color=\"green\">// rvalue semantic</font>\n",
    "</code></pre>"
   ]
  },
  {
   "cell_type": "markdown",
   "metadata": {},
   "source": [
    "* The arguments are used to initialize the function's parameters.\n",
    "* The distinction between arguments and parameters is important, because `parameters` are lvalues, but the `arguments` with which they are initialized may be rvalues or lvalues.\n",
    "\n",
    "**perfect forwarding** - an argument passed to a function is passed to a second function such that the original argument's rvalueness or lvalueness is preserved\n",
    "\n",
    "**function object** - an object that acts like a function; an object of type supporting an `operator()` member function\n",
    "\n",
    "**callable objects** - anything that can be invoked using the syntax of a non-member function call; this covers `operator()`, functions, C-like function pointers, member function pointers\n",
    "\n",
    "**closures** - function objects created through lambda expressions\n"
   ]
  },
  {
   "cell_type": "markdown",
   "metadata": {},
   "source": [
    "* `Declarations` introduce names and types without giving details.\n",
    "* `Definitions` provide the storage locations or implementation details.\n",
    "\n",
    "**function's signature** - a part of its declaration that specifies parameter and return types\n",
    "\n",
    "**undefined behavior** - runtime behavior is unpredictable\n",
    "\n",
    "**`std::move`** - treat argument as a temporary object (rvalue); casting rvalue to lvalue is allowed\n",
    "\n",
    "**`std::forward`** - cast a templated function parameter (inside the function) to the value category (lvalue or rvalue); this allows performing a perfect forwarding; casting rvalue to lvalue is prohibited"
   ]
  },
  {
   "cell_type": "markdown",
   "metadata": {},
   "source": [
    "<hr>"
   ]
  },
  {
   "cell_type": "markdown",
   "metadata": {},
   "source": [
    "## DEDUCING TYPES FOR FUNCTION TEMPLATES\n",
    "<pre><code><font color=\"blue\">template</font><<font color=\"blue\">typename</font> T> <font color=\"blue\">void</font> f(ParamType param); \n",
    "f(expr);\n",
    "</code></pre>\n",
    "\n",
    "* `ParamType` is a pointer or reference type, but not a universal reference - `T&`\n",
    "    * If expr's type is a reference, ignore the reference part.\n",
    "    * Then pattern-match expr's type against `ParamType` to determinate `T`.\n",
    "* `ParamType` is a universal reference - `T&&`\n",
    "    * If expr is an `lvalue`, both `T` and `ParamType` are deduced to be lvalue references.\n",
    "    * If expr is an `rvalue`, the 'normal' rules (from above) apply.\n",
    "* `ParamType` is neither a pointer nor a reference - `T`\n",
    "    * If expr's type is a reference, ignore the reference part.\n",
    "    * If, expr is `const` or `volatile` ignore that, too.\n",
    "* `ParamType` is an array or a function argument (arr- and func-to-ptr decay)\n"
   ]
  },
  {
   "cell_type": "markdown",
   "metadata": {},
   "source": [
    "Examples:\n",
    "\n",
    "<pre><code><font color=\"blue\">int</font> x = 27; \n",
    "<font color=\"blue\">const int</font> cx = x; \n",
    "<font color=\"blue\">volatile const int</font>& vx = x;\n",
    "<font color=\"blue\">const char</font>* <font color=\"blue\">const</font> ptr = \"Fun with pointers\";\n",
    "<font color=\"blue\">const char</font> name[] = \"J. P. Briggs\";\n",
    "<font color=\"blue\">void</font> someFunc(<font color=\"blue\">int</font>, <font color=\"blue\">double</font>);\n",
    "\n",
    "if ParamType:=<font color=\"green\">T&</font>  calling <font color=\"green\">f(cx);</font>       then T:=<font color=\"blue\">const int</font>            and param:=<font color=\"blue\">const int &</font>\n",
    "if ParamType:=<font color=\"green\">T&&</font> calling <font color=\"green\">f(x);</font>        then T:=<font color=\"blue\">int&</font>                 and param:=<font color=\"blue\">int&</font>\n",
    "if ParamType:=<font color=\"green\">T&&</font> calling <font color=\"green\">f(27);</font>       then T:=<font color=\"blue\">int</font>                  and param:=<font color=\"blue\">int&&</font>\n",
    "if ParamType:=<font color=\"green\">T</font>   calling <font color=\"green\">f(vx);</font>       then T:=<font color=\"blue\">int</font>                  and param:=<font color=\"blue\">int</font>\n",
    "if ParamType:=<font color=\"green\">T</font>   calling <font color=\"green\">f(ptr);</font>      then T:=<font color=\"blue\">const char* const</font>    and param:=<font color=\"blue\">const char*</font>\n",
    "if ParamType:=<font color=\"green\">T</font>   calling <font color=\"green\">f(name);</font>     then T:=<font color=\"blue\">const char*</font>          and param:=<font color=\"blue\">const char*</font>\n",
    "if ParamType:=<font color=\"green\">T&</font>  calling <font color=\"green\">f(name);</font>     then T:=<font color=\"blue\">const char[13]</font>       and param:=<font color=\"blue\">const char(&)[13]</font>\n",
    "if ParamType:=<font color=\"green\">T&</font>  calling <font color=\"green\">f(someFunc);</font> then T:=<font color=\"blue\">void (&)(int,double)</font> and param:=<font color=\"blue\">ref-to-func</font>\n",
    "</code></pre>"
   ]
  },
  {
   "cell_type": "markdown",
   "metadata": {},
   "source": [
    "**constexpr** - makes a function declaration result available during compilation\n",
    "\n",
    "**noexcept** - help compilers to generate a better code"
   ]
  },
  {
   "cell_type": "markdown",
   "metadata": {},
   "source": [
    "Trailing return type syntax example:\n",
    "\n",
    "<pre><code><font color=\"blue\">template</font><<font color=\"blue\">typename</font> Container, <font color=\"blue\">typename</font> Index>\n",
    "<font color=\"blue\">auto</font> authAndAccess(Container& c, Index i) -> <font color=\"blue\">decltype</font>(<font color=\"green\">std:forward</font><Container>(c)[i]) { \n",
    "    authenticateUser(); \n",
    "    <font color=\"blue\">return</font> c[i]; \n",
    "    <font color=\"green\">// C++11</font>\n",
    "}\n",
    "\n",
    "<font color=\"blue\">template</font><<font color=\"blue\">typename</font> Container, <font color=\"blue\">typename</font> Index>\n",
    "<font color=\"blue\">decltype</font>(<font color=\"blue\">auto</font>) authAndAccess(Container&& c, Index i) {\n",
    "    authenticateUser();\n",
    "    <font color=\"blue\">return</font> <font color=\"green\">std::forward</font><Container>(c)[i];\n",
    "    <font color=\"green\">// C++14</font>\n",
    "}\n",
    "</code></pre>\n"
   ]
  },
  {
   "cell_type": "markdown",
   "metadata": {},
   "source": [
    "<hr>"
   ]
  },
  {
   "cell_type": "markdown",
   "metadata": {},
   "source": [
    "## AUTO KEYWORD\n",
    "\n",
    "**function object** - `std::function` template is a generalization of a function that can point to any callable object (anything that can be invoked as a function); this approach is generally bigger and slower compared with `auto` approach (closure hold in memory, restricted inlining)\n"
   ]
  },
  {
   "cell_type": "markdown",
   "metadata": {},
   "source": [
    "<pre><code>std::vector<<font color=\"blue\">int</font>> v;\n",
    "std::vector<<font color=\"blue\">int</font>>::size_type           // official type: unsigned integral type\n",
    "<font color=\"blue\">unsigned</font> sz = v.size();               // on 64-bit Windows: 32 bits\n",
    "<font color=\"blue\">auto</font> sz = v.size();                   // on 64-bit Windows: 64 bits\n",
    "</code></pre>\n"
   ]
  },
  {
   "cell_type": "markdown",
   "metadata": {},
   "source": [
    "<pre><code>std::unordered_map<<font color=\"blue\">std::string</font>, <font color=\"blue\">int</font>> m;\n",
    "\n",
    "<font color=\"blue\">for</font> (<font color=\"blue\">const std::pair</font><<font color=\"blue\">std::string</font>, <font color=\"blue\">int</font>>& p : m) {\n",
    "    <font color=\"green\">// key is const!\n",
    "    // type of the pair in the hash table is std::pair&lt;const std::string, int&gt;\n",
    "    // compiler will do a convertion to std::pair&lt;string, int&gt; for a temporary object\n",
    "    // explicit type specification leads to implicit convertions</font>\n",
    "}\n",
    "</code></pre>\n"
   ]
  },
  {
   "cell_type": "markdown",
   "metadata": {},
   "source": [
    "<pre><code>std::vector<<font color=\"blue\">bool</font>> features(<font color=\"blue\">const</font> Widget& w);\n",
    "Widget w;\n",
    "\n",
    "<font color=\"blue\">bool</font> highPriority = features(w)[5];                           // OK\n",
    "<font color=\"blue\">auto</font> highPriority = features(w)[5];                           // undefined behavior\n",
    "<font color=\"blue\">auto</font> highPriority = <font color=\"blue\">static_cast</font><<font color=\"blue\">bool</font>>(features(w)[5]);        // explicitly typed initializer idiom\n",
    "\n",
    "processWidget(w, highPriority);\n",
    "<font color=\"green\">// std::vector<T> holds operator[] that is supposed to return a T&\n",
    "// operator[] returns a reference to an element of the container, except bool\n",
    "// for bools operator[] return std::vector<bool>::reference, a nested class (proxy class)\n",
    "// std::vector<bool> is specified to represent its bools in packed form, one bit per bool\n",
    "// yet, C++ forbids references to bits\n",
    "// not being able to return bool&, operator[] returns an object that acts like a bool&\n",
    "// to make this work we need an implicit conversion to bool, not to bool&\n",
    "// auto deduced type depends on the ::reference implementation (i.e. ptr-to-word + offset)\n",
    "// the call to features returns a temporary std::vector<bool> object temp\n",
    "// invoked temp->operator[] returns ::reference containing a ptr-to-word plus offset[5]\n",
    "// highPriority is a copy of a pointer to a word in temp with its offset\n",
    "// at the end of the statement temp is destroyed because is a temporary object\n",
    "// this means that highPriority contains a dangling pointer!</font>\n",
    "</code></pre>"
   ]
  },
  {
   "cell_type": "markdown",
   "metadata": {},
   "source": [
    "**proxy class**: a class that exists for the purpose of emulating and augmenting the behavior of some other type\n",
    "* `std::vector<bool>::reference` offers the illusion that `operator[]` returns a reference to a bit\n",
    "* STL smart pointers types graft resource management onto raw pointers\n",
    "* apparent `Proxies` examples: `std::shared_ptr`, `std::unique_ptr`\n",
    "* invisible `Proxies` examples: `std::vector<bool>::reference`, `std::bitset::reference`, classes from STL using expression templates\n"
   ]
  },
  {
   "cell_type": "markdown",
   "metadata": {},
   "source": [
    "<pre><code><font color=\"green\">// expression template\n",
    "// originally developed to improve the efficiency of numeric code</font>\n",
    "Matrix sum = m1 + m2 + m3 + m4;\n",
    "\n",
    "<font color=\"blue\">auto</font> sum = <font color=\"blue\">static_cast</font>&lt;Matrix&gt;(m1 + m2 + m3 + m4);\n",
    "<font color=\"green\">// explicitly typed initializer idiom\n",
    "// operator+ for Matrix should return a proxy for the result\n",
    "// for two Matrix objects the result should be Sum&lt;Matrix, Matrix&gt;\n",
    "// we need to provide an implicit conversion from the proxy class to Matrix\n",
    "// the entire initialization expression: SumSum&lt;Sum&lt;Matrix, Matrix&gt;, Matrix&gt;, Matrix&gt;\n",
    "\n",
    "// general rule: invisible proxy classes don't play well with auto keyword\n",
    "// proxy classes are often designed to live for a single statement\n",
    "// creating variables of those types tends to violate fundamental library design assumptions\n",
    "// how to recognize when proxy objects are in use?\n",
    "// function signatures usually reflect their existence (they're typically returned from those)\n",
    "// also, pay careful attention to the interfaces you're using</font></code></pre>"
   ]
  },
  {
   "cell_type": "markdown",
   "metadata": {},
   "source": [
    "<pre><code><font color=\"green\">// explicitly typed initializer idiom</font>\n",
    "<font color=\"blue\">double</font> calcEpsilon();\n",
    "<font color=\"blue\">float</font> ep = calcEpsilon();                    <font color=\"green\">          // may be or not deliberate, intend not clear</font>\n",
    "<font color=\"blue\">auto</font> ep = <font color=\"blue\">static_cast</font><<font color=\"blue\">float</font>>(calcEpsilon()); <font color=\"green\">          // deliberate type reduction</font></code></pre>"
   ]
  },
  {
   "cell_type": "markdown",
   "metadata": {},
   "source": [
    "<hr>"
   ]
  },
  {
   "cell_type": "markdown",
   "metadata": {},
   "source": [
    "## DISTINGUISH BETWEEN PARENTHESES AND BRACES\n",
    "**uniform initialization**: a single initialization syntax that can, at least in concept, be used anywhere and express everything\n",
    "* `'uniform initialization'` is an idea, `'braced initialization'` is a syntactic construct\n",
    "* specyfing the initial contents of a container is easy\n",
    "* braces can be used to specify default initialization values for non-static data members\n",
    "* it prohibits implicit narrowing conversions among built-in types\n",
    "* it is immune to C++'s `most vexing parse`\n",
    "* if one or more constructors declare a parameter of type `std::initializer_list`, calls using the braced iniitialization syntax **strongly** prefer the overloads taking this type"
   ]
  },
  {
   "cell_type": "markdown",
   "metadata": {},
   "source": [
    "**most vexing parse**: a side effect of C++'s rule that anything that can be parsed as a declaration must be interpreted as one; usually afflicts situations when you want to default-construct an object, but inadvertently declaring a function instead"
   ]
  },
  {
   "cell_type": "markdown",
   "metadata": {},
   "source": [
    "<pre><code>Widget w1;                                <font color=\"green\">// call default constructor</font>\n",
    "Widget w2 = w1;                           <font color=\"green\">// calls copy ctor</font>\n",
    "w1 = w2;                                  <font color=\"green\">// call copy operator=</font>\n",
    "std::vector<<font color=\"blue\">int</font>> v{ 1, 3, 5 };            <font color=\"green\">// initial content is in braces</font>\n",
    "std::atomic<<font color=\"blue\">int</font>> ai1{ 0 };                <font color=\"green\">// assignment, where '=' is not allowed</font>\n",
    "<font color=\"blue\">double</font> x, y, z;\n",
    "<font color=\"blue\">int</font> sum1{ x + y + z };                    <font color=\"green\">// ERROR, double not expressible as int</font>\n",
    "<font color=\"blue\">int</font> sum2(x + y + z);                      <font color=\"green\">// OK, expression truncated to int</font>\n",
    "<font color=\"blue\">int</font> sum3 = x + y + z;                     <font color=\"green\">// ditto</font>\n",
    "Widget w3(10);                            <font color=\"green\">// call Widget ctor with argument 10</font>\n",
    "Widget w4();                              <font color=\"green\">// declares a function w2 that returns Widget</font>\n",
    "Widget w5{};                              <font color=\"green\">// calls Widget ctor with no args</font>\n",
    "</code></pre>"
   ]
  },
  {
   "cell_type": "markdown",
   "metadata": {},
   "source": [
    "<pre><code><font color=\"blue\">class</font> Widget {\n",
    "<font color=\"blue\">public</font>:\n",
    "    Widget(<font color=\"blue\">int</font> i, <font color=\"blue\">bool</font> b);\n",
    "    Widget(<font color=\"blue\">int</font> i, <font color=\"blue\">double</font> d);\n",
    "    Widget(std::initializer_list<<font color=\"blue\">long double</font>> il);\n",
    "    <font color=\"blue\">operator</font> float() <font color=\"blue\">const</font>;                             <font color=\"green\">// conversion operator</font>\n",
    "};\n",
    "\n",
    "Widget w1(10, true);                     <font color=\"green\">// first ctor</font>\n",
    "Widget w3(10, 5.0);                      <font color=\"green\">// second ctor</font>\n",
    "Widget w2{10, true};                     <font color=\"green\">// third ctor, conversion to long double</font>\n",
    "Widget w4{10, 5.0};                      <font color=\"green\">// ditto</font>\n",
    "Widget w5(w4);                           <font color=\"green\">// copy ctor</font>\n",
    "Widget w7(std::move(w4));                <font color=\"green\">// move ctor</font>\n",
    "Widget w6{w4};                           <font color=\"green\">// third ctor, w4 -> float -> long double</font>\n",
    "Widget w8{std::move(w4)};                <font color=\"green\">// ditto</font>\n",
    "Widget w9{};                             <font color=\"green\">// edge case, the rule is default construction</font>\n",
    "Widget w10({});                          <font color=\"green\">// third ctor, empty list</font>\n",
    "std::vector<int> v1(10, 20);                  <font color=\"green\">// 10 elements, each of value 20</font>\n",
    "std::vector<int> v2{10, 20};                  <font color=\"green\">// 2 elements, values 10 and 20</font>\n",
    "                                         <font color=\"green\">// is now viewed as an error in the interface design</font>\n",
    "                                         <font color=\"green\">// il overloads overshadows others overloads</font>\n",
    "                                         <font color=\"green\">// in auto type deduction {} is a std:initializer_list</font>\n",
    "</code></pre>"
   ]
  },
  {
   "cell_type": "markdown",
   "metadata": {},
   "source": [
    "<pre><code><font color=\"blue\">template</font><<font color=\"blue\">typename</font> T, <font color=\"blue\">typename</font>... Ts>\n",
    "<font color=\"blue\">void</font> doSomeWork(Ts&&... params) {\n",
    "    <font color=\"green\">// T - type of objects to create\n",
    "    // Ts - types of arguments to use\n",
    "    // we either use parens or braces for parsing</font>\n",
    "    <font color=\"blue\">T</font> localObject(std::forward<Ts>(params)...);\n",
    "    <font color=\"blue\">T</font> localObject<font color=\"red\">{</font>std::forward<Ts>(params)...<font color=\"red\">}</font>;\n",
    "}\n",
    "\n",
    "std::vector<<font color=\"blue\">int</font>> v;\n",
    "doSomeWork&lt;std::vector<<font color=\"blue\">int</font>>>(10, 20);\n",
    "<font color=\"green\">// for parens, v has 10 elements; for braces, v has 2 elements\n",
    "// which is correct? only the caller can know!</font>\n",
    "</code></pre>"
   ]
  },
  {
   "cell_type": "markdown",
   "metadata": {},
   "source": [
    "<hr>"
   ]
  },
  {
   "cell_type": "markdown",
   "metadata": {},
   "source": [
    "## DIFFERENCES BETWEEN 0, NULL, NULLPTR\n",
    "* literal `0` is an `int`, not a `pointer`\n",
    "* if `0` is used in a context where only a pointer can be used, it'll be interpreted as `null pointer`, which is a fallback position\n",
    "* the same is true for `NULL`, yet it is allowed to give it an `integral` type other than `int`, especially `long`\n",
    "* a guideline for C++98 is to avoid overloading on pointer and integral types because of function overload resolution surprises"
   ]
  },
  {
   "cell_type": "markdown",
   "metadata": {},
   "source": [
    "<pre><code><font color=\"blue\">void</font> f(<font color=\"blue\">int</font>);\n",
    "<font color=\"blue\">void</font> f(<font color=\"blue\">bool</font>);\n",
    "<font color=\"blue\">void</font> f(<font color=\"blue\">void</font> *);\n",
    "\n",
    "f(0);               <font color=\"green\">// calls f(int)</font>\n",
    "f(<font color=\"blue\">NULL</font>);            <font color=\"green\">// may not compile, otherwise calls f(int)\n",
    "                    // if NULL is defined to be 0L than the call is ambiguous\n",
    "                    // conversion long -> int, long -> bool, 0L -> void* are equally good</font>\n",
    "</code></pre>"
   ]
  },
  {
   "cell_type": "markdown",
   "metadata": {},
   "source": [
    "**`nullptr`**: a type that can be viewed as a pointer of all types\n",
    "* `nullptr` does not have integral type nor pointer type\n",
    "* `nullptr` type is `std::nullptr_t`\n",
    "* `std::nullptr_t` is defined to be the type of `nullptr`\n",
    "* `std::nullptr_t` implicitly converts to all raw pointer types\n",
    "* overloaded function with `nullptr` argument always calls the `void*` overload\n",
    "* preferred to use in templates"
   ]
  },
  {
   "cell_type": "markdown",
   "metadata": {},
   "source": [
    "<hr>"
   ]
  },
  {
   "cell_type": "markdown",
   "metadata": {},
   "source": [
    "## ALIASES AND TYPEDEFS\n",
    "* aliases are possibly easier with function pointers\n",
    "* alias declarations may be templatized (alias templates)"
   ]
  },
  {
   "cell_type": "markdown",
   "metadata": {},
   "source": [
    "<pre><code><font color=\"blue\">typedef</font> <font color=\"teal\">std::unique_ptr</font>&lt;std::unordered_map&lt;<font color=\"teal\">std::string</font>, <font color=\"teal\">std::string</font>&gt;&gt; UPtrMapSS;\n",
    "<font color=\"blue\">using</font> UPtrMapSS = <font color=\"teal\">std::unique_ptr</font>&lt;std::unordered_map&lt;<font color=\"teal\">std::string</font>, <font color=\"teal\">std::string</font>&gt;&gt;;\n",
    "\n",
    "<font color=\"blue\">typedef void</font> (*FP)(<font color=\"blue\">int</font>, <font color=\"blue\">const</font> std::string &);\n",
    "<font color=\"blue\">using</font> FP = <font color=\"blue\">void</font> (*)(<font color=\"blue\">int</font>, <font color=\"blue\">const</font> std::string &);\n",
    "</code></pre>"
   ]
  },
  {
   "cell_type": "markdown",
   "metadata": {},
   "source": [
    "<pre><code><font color=\"blue\">template</font>&lt;<font color=\"blue\">typename</font> T>\n",
    "<font color=\"blue\">using</font> MyAllocList = <font color=\"teal\">std::list</font>&lt;T, MyAlloc&lt;T&gt;&gt;;\n",
    "<font color=\"green\">// MyAllocList&lt;Widget&gt; lw;</font>\n",
    "\n",
    "<font color=\"blue\">template</font>&lt;<font color=\"blue\">typename</font> T>\n",
    "<font color=\"blue\">struct</font> MyAllocList {\n",
    "    <font color=\"blue\">typedef</font> <font color=\"teal\">std::list</font>&lt;T, MyAllocList&lt;T&gt;&gt; type;\n",
    "};\n",
    "<font color=\"green\">// MyAllocList&lt;Widget&gt;::type lw;</font>\n",
    "</code></pre>"
   ]
  },
  {
   "cell_type": "markdown",
   "metadata": {},
   "source": [
    "<pre><code><font color=\"blue\">template</font>&lt;<font color=\"blue\">typename</font> T>\n",
    "<font color=\"blue\">class</font> Widget {\n",
    "<font color=\"blue\">private</font>:\n",
    "    <font color=\"blue\">typename</font> <font color=\"teal\">MyAllocList</font>&lt;T&gt;::type list;\n",
    "    <font color=\"green\">// typedef type inside a template must be preceded with typename\n",
    "    // nested MyAllocList&lt;T&gt;::type is a dependent type\n",
    "    // ::type may not name a type (there might be a specialization of MyAllocList)</font>\n",
    "};\n",
    "\n",
    "<font color=\"blue\">template</font>&lt;<font color=\"blue\">typename</font> T> <font color=\"blue\">using</font> MyAllocList = <font color=\"teal\">std::list</font>&lt;T, MyAlloc&lt;T&gt;&gt;;\n",
    "<font color=\"blue\">template</font>&lt;<font color=\"blue\">typename</font> T> <font color=\"blue\">class</font> Widget {\n",
    "<font color=\"blue\">private</font>:\n",
    "    <font color=\"teal\">MyAllocList</font>&lt;T&gt; list;\n",
    "    <font color=\"green\">// alias template; typename is neither required nor permitted\n",
    "    // MyAllocList must name a type, thus MyAllocList&lt;T&gt; is a non-dependent type</font>\n",
    "};\n",
    "\n",
    "<font color=\"blue\">template</font>&lt;&gt; <font color=\"blue\">class</font> MyAllocList&lt;<font color=\"teal\">Wine</font>&gt; {\n",
    "<font color=\"blue\">private</font>:\n",
    "    <font color=\"blue\">enum class</font> WineType { White, Red, Rose };\n",
    "    <font color=\"teal\">WineType</font> type;\n",
    "    <font color=\"green\">// this a MyAllocList template specialization for T=Wine\n",
    "    // type is a data member, MyAllocList&lt;T&gt;::type inside Widget will refer to it</font>\n",
    "};\n",
    "</code></pre>"
   ]
  },
  {
   "cell_type": "markdown",
   "metadata": {},
   "source": [
    "In **template metaprogramming (TMP)** sometimes there is a need to take template type parameters and create a revised types from them. For example, we want to `T=const std::string` & turn into `std::string`. In C++11+ this type of transformations are available as templates and are called `type traits`. Type traits are implemented as nested `typedefs` inside templatized `structs` (reasons for this are historical, Standarization Committee first choose was typedef).\n",
    "\n",
    "<pre><code>\n",
    "std::<font color=\"teal\">remove_const</font><T>::type                         <font color=\"green\">// C++11, const T -> T</font>\n",
    "std::<font color=\"teal\">remove_const_t</font><T>                             <font color=\"green\">// C++14</font>\n",
    "std::<font color=\"teal\">remove_reference</font><T>::type                     <font color=\"green\">// T&/T&& -> T</font>\n",
    "std::<font color=\"teal\">remove_reference_t</font><T>\n",
    "std::<font color=\"teal\">add_lvalue_reference</font><T>::type                 <font color=\"green\">// T -> T&</font>\n",
    "std::<font color=\"teal\">add_lvalue_reference_t</font><T>\n",
    "std::<font color=\"teal\">transformation</font><T>::type                       <font color=\"green\">// C++11 common form</font>\n",
    "std::<font color=\"teal\">transformation_t</font><T>                           <font color=\"green\">// C++14 alias template</font>\n",
    "</code></pre>"
   ]
  },
  {
   "cell_type": "markdown",
   "metadata": {},
   "source": [
    "<hr>"
   ]
  },
  {
   "cell_type": "markdown",
   "metadata": {},
   "source": [
    "## SCOPED AND UNSCOPED ENUMS\n",
    "* `enum classes` reduce namespace pollution by scoping their names (those in braces)\n",
    "* `enum classes` are strongly typed (underlying type is `int`, usually `std::size_t`), whereas `unscoped enums` implicitly converts to integral types (usually `float` or `char`)\n",
    "* `scoped enums` may be forward-declared (no need for enumerators in braces)"
   ]
  },
  {
   "cell_type": "markdown",
   "metadata": {},
   "source": [
    "<pre><code>\n",
    "<font color=\"blue\">enum</font> Color { black, white, red };             <font color=\"green\">// 4 names in the same scope, C++98</font>\n",
    "<font color=\"blue\">auto</font> white = false;                           <font color=\"green\">// ERR, white already declared</font>\n",
    "\n",
    "<font color=\"blue\">enum class</font> Color { black, white, red };       <font color=\"green\">// 3 names scoped to Color, C++11</font>\n",
    "<font color=\"blue\">auto</font> white = false;                           <font color=\"green\">// fine</font>\n",
    "<font color=\"teal\">Color</font> c = white;                              <font color=\"green\">// ERR, white is not declared</font>\n",
    "<font color=\"blue\">auto</font> c = <font color=\"teal\">Color</font>::white;                        <font color=\"green\">// fine</font>\n",
    "\n",
    "<font color=\"blue\">auto</font> comparison = c < 14.5;                   <font color=\"green\">// OK, for unscoped enum</font>\n",
    "<font color=\"blue\">enum class</font> Status;                            <font color=\"green\">// forward-declaration</font>\n",
    "\n",
    "<font color=\"blue\">enum class</font> Status : <font color=\"teal\">std::uint32_t</font>;            <font color=\"green\">// specyfing underlying type</font>\n",
    "<font color=\"blue\">enum</font> Color : <font color=\"teal\">std::uint8_t</font>;                    <font color=\"green\">// either at declaration or definition</font>\n",
    "</code></pre>"
   ]
  },
  {
   "cell_type": "markdown",
   "metadata": {},
   "source": [
    "<pre><code><font color=\"blue\">template</font>&lt;<font color=\"blue\">typename</font> E>\n",
    "<font color=\"blue\">constexpr auto</font> toUType(E enumerator) <font color=\"blue\">noexcept</font> {\n",
    "    <font color=\"green\">// C++14</font>\n",
    "    <font color=\"blue\">return static_cast</font>&lt;std::<font color=\"teal\">underlying_type_t</font>&lt;E&gt;&gt;(enumerator);\n",
    "}\n",
    "\n",
    "<font color=\"blue\">enum class</font> UserInfoFields { uiName, uiEmail, uiReputation };\n",
    "<font color=\"blue\">using</font> UserInfo = std::<font color=\"teal\">tuple</font>&lt;std::<font color=\"teal\">string</font>, std::<font color=\"teal\">string</font>, std::<font color=\"teal\">size_t</font>&gt;;\n",
    "<font color=\"teal\">UserInfo</font> uInfo;\n",
    "<font color=\"blue\">auto</font> val = std::<font color=\"teal\">get</font>&lt;toUType(<font color=\"teal\">UserInfoFields</font>::uiEmail)&gt;(uInfo);\n",
    "</code></pre>"
   ]
  },
  {
   "cell_type": "markdown",
   "metadata": {},
   "source": [
    "<hr>"
   ]
  },
  {
   "cell_type": "markdown",
   "metadata": {},
   "source": [
    "## DELETED FUNCTIONS VS PRIVATE FUNCTIONS\n",
    "* making new functions `public` resulting in better error messages (private complains etc.)\n",
    "* any function may be deleted, while only member functions may be private\n",
    "* deleted functions can't be used\n",
    "* deleted functions are taken into consideration during `overload resolution`\n",
    "* deleted functions prevent use of a template instantiations that should be disabled"
   ]
  },
  {
   "cell_type": "markdown",
   "metadata": {},
   "source": [
    "<pre><code><font color=\"blue\">template</font>&lt;<font color=\"blue\">class</font> charT, <font color=\"blue\">class</font> traits = <font color=\"teal\">char_traits</font>&lt;charT&gt;>\n",
    "<font color=\"blue\">class</font> basic_ios : <font color=\"blue\">public</font> ios_base {\n",
    "<font color=\"blue\">public</font>:\n",
    "    basic_ios(<font color=\"blue\">const</font> basic_ios&) = <font color=\"blue\">delete</font>;\n",
    "    basic_ios& <font color=\"blue\">operator</font>=(<font color=\"blue\">const</font> basic_ios&) = <font color=\"blue\">delete</font>;\n",
    "};\n",
    "</code></pre>"
   ]
  },
  {
   "cell_type": "markdown",
   "metadata": {},
   "source": [
    "<pre><code>\n",
    "<font color=\"blue\">bool</font> isLucky(<font color=\"blue\">int</font> number);              <font color=\"green\">// we want only ints</font>\n",
    "<font color=\"blue\">bool</font> isLucky(<font color=\"blue\">char</font>) = <font color=\"blue\">delete</font>;           <font color=\"green\">// reject chars</font>\n",
    "<font color=\"blue\">bool</font> isLucky(<font color=\"blue\">bool</font>) = <font color=\"blue\">delete</font>;           <font color=\"green\">// reject bools</font>\n",
    "<font color=\"blue\">bool</font> isLucky(<font color=\"blue\">double</font>) = <font color=\"blue\">delete</font>;         <font color=\"green\">// reject doubles and floats</font>\n",
    "                                       <font color=\"green\">// C++ prefers the conversion to double</font>\n",
    "</code></pre>"
   ]
  },
  {
   "cell_type": "markdown",
   "metadata": {},
   "source": [
    "<pre><code>\n",
    "<font color=\"blue\">template</font><<font color=\"blue\">typename</font> T> <font color=\"blue\">void</font> processPointer(<font color=\"blue\">T</font>* ptr);\n",
    "\n",
    "<font color=\"blue\">template</font><> <font color=\"blue\">void</font> processPointer<<font color=\"teal\">void</font>>(<font color=\"blue\">void</font>*) = <font color=\"blue\">delete</font>;\n",
    "<font color=\"blue\">template</font><> <font color=\"blue\">void</font> processPointer<<font color=\"teal\">char</font>>(<font color=\"blue\">char</font>*) = <font color=\"blue\">delete</font>;\n",
    "<font color=\"blue\">template</font><> <font color=\"blue\">void</font> processPointer<<font color=\"teal\">const void</font>>(<font color=\"blue\">const void</font>*) = <font color=\"blue\">delete</font>;\n",
    "<font color=\"blue\">template</font><> <font color=\"blue\">void</font> processPointer<<font color=\"teal\">const char</font>>(<font color=\"blue\">const char</font>*) = <font color=\"blue\">delete</font>;\n",
    "<font color=\"blue\">template</font><> <font color=\"blue\">void</font> processPointer<<font color=\"teal\">const volatile void</font>>(<font color=\"blue\">const volatile void</font>*) = <font color=\"blue\">delete</font>;\n",
    "<font color=\"blue\">template</font><> <font color=\"blue\">void</font> processPointer<<font color=\"teal\">const volatile char</font>>(<font color=\"blue\">const volatile char</font>*) = <font color=\"blue\">delete</font>;\n",
    "<font color=\"blue\">template</font><> <font color=\"blue\">void</font> processPointer<<font color=\"teal\">std::wchar_t</font>>(std::wchar_t*) = <font color=\"blue\">delete</font>;\n",
    "<font color=\"blue\">template</font><> <font color=\"blue\">void</font> processPointer<<font color=\"teal\">std::char16_t</font>>(std::char16_t*) = <font color=\"blue\">delete</font>;\n",
    "<font color=\"blue\">template</font><> <font color=\"blue\">void</font> processPointer<<font color=\"teal\">std::char32_t</font>>(std::char32_t*) = <font color=\"blue\">delete</font>;\n",
    "<font color=\"blue\">template</font><> <font color=\"blue\">void</font> processPointer<<font color=\"teal\">std::char8_t</font>>(std::char8_t*) = <font color=\"blue\">delete</font>;\n",
    "<font color=\"green\">// void*, char* (cv-qualified or not)\n",
    "// std::wchar_t (depending on compiler and target platform, for wide characters)\n",
    "// std::char16_t (since C++11, UTF-16, 2 bytes, as std::uint_least16_t)\n",
    "// std::char32_t (since C++11, UTF-32, 4 bytes, as std::uint_least32_t)\n",
    "// std::char8_t (since C++20, UTF-8, 1 byte, as unsigned char, char, signed char)</font>\n",
    "</code></pre>"
   ]
  },
  {
   "cell_type": "markdown",
   "metadata": {},
   "source": [
    "<hr>"
   ]
  },
  {
   "cell_type": "markdown",
   "metadata": {},
   "source": [
    "## OVERRIDED FUNCTIONS\n",
    "\n",
    "Requirements for overriding class member functions:\n",
    "* base class function must be `virtual`\n",
    "* base and derived function names must match (except destructors)\n",
    "* base and derived function parameter types must match\n",
    "* base and derived function constness must match\n",
    "* base and derived function return type and exception specification must be compatible\n",
    "* base and derived function `reference qualifiers` must be identical (C++11)"
   ]
  },
  {
   "cell_type": "markdown",
   "metadata": {},
   "source": [
    "**Member function reference qualifiers** limits use of a member function to `lvalues` or `rvalues` only. They need not be `virtual` to use them.\n",
    "\n",
    "<pre><code>\n",
    "<font color=\"blue\">class</font> Widget {\n",
    "<font color=\"blue\">public</font>:\n",
    "    <font color=\"blue\">void</font> doWork() <font color=\"red\">&</font>;                 <font color=\"green\">// only when *this is an lvalue</font>\n",
    "    <font color=\"blue\">void</font> doWork() <font color=\"red\">&&</font>;                <font color=\"green\">// only when *this is an rvalue</font>\n",
    "};\n",
    "\n",
    "<font color=\"teal\">Widget</font> w;\n",
    "w.doWork();                          <font color=\"green\">// calls Widget::doWork() &</font>\n",
    "<font color=\"teal\">Widget</font> makeWidget();\n",
    "makeWidget().doWork();               <font color=\"green\">// calls Widget::doWork() &&</font>\n",
    "</code></pre>"
   ]
  },
  {
   "cell_type": "markdown",
   "metadata": {},
   "source": [
    "Contextual keyword **override**:\n",
    "* make explicit that a derived class function is supposed to override a base class version\n",
    "* compiler will kvetch about all the overriding-related problems\n",
    "\n",
    "Contextual keyword **final**:\n",
    "* *(applied to a function)* prevents function from being overridden in derived class\n",
    "* *(applied to a class)* prohibits from being used as a base class"
   ]
  },
  {
   "cell_type": "markdown",
   "metadata": {},
   "source": [
    "<pre><code>\n",
    "<font color=\"blue\">class</font> Base {\n",
    "<font color=\"blue\">public</font>:\n",
    "    <font color=\"blue\">virtual void</font> mf1() <font color=\"blue\">const</font>;\n",
    "    <font color=\"blue\">virtual void</font> mf2(<font color=\"blue\">int</font> x);\n",
    "    <font color=\"blue\">virtual void</font> mf3() <font color=\"blue\">&</font>;\n",
    "    <font color=\"blue\">virtual void</font> mf4() <font color=\"blue\">const</font>;\n",
    "    <font color=\"blue\">void</font> mf5() <font color=\"blue\">final</font>;\n",
    "};\n",
    "\n",
    "<font color=\"blue\">class</font> Derived : <font color=\"blue\">public</font> <font color=\"teal\">Base</font> {\n",
    "<font color=\"blue\">public</font>:\n",
    "    <font color=\"blue\">virtual void</font> mf1() <font color=\"blue\">const override</font>;\n",
    "    <font color=\"blue\">virtual void</font> mf2(<font color=\"blue\">int</font> x) <font color=\"blue\">override</font>;\n",
    "    <font color=\"blue\">virtual void</font> mf3() <font color=\"blue\">& override</font>;\n",
    "    <font color=\"blue\">void</font> mf4() <font color=\"blue\">const override</font>;\n",
    "};\n",
    "</code></pre>"
   ]
  },
  {
   "cell_type": "markdown",
   "metadata": {},
   "source": [
    "<hr>"
   ]
  },
  {
   "cell_type": "markdown",
   "metadata": {},
   "source": [
    "## UNCONDITIONAL NOEXCEPT SPECIFIER\n",
    "* C++98-style exception remain valid, but they're deprecated (specifying exception types)\n",
    "* it permits compilers to generate better object code (most optimizable function variant)\n",
    "    * optimizers need not keep the runtime stack in an `unwindable state` if an exception would propagate out of the function, nor must they ensure that objects in a `noexcept` function are destroyed in the inverse order of construction should an exception leave the function\n",
    "    * this is true only for `noexcept` specifier\n",
    "* swapping higher-level data structures can generally be `noexcept` only if swapping their lower-level constituents is `noexcept`\n",
    "* if an exception tries to leave the function in a `noexcept` function, the program will be terminated\n",
    "* most functions are `exception-neutral`, that is they throw no exceptions themselves, but functions they call might emit one\n",
    "    * exception-neutral functions are never `noexcept`, because they may emit 'just passing through' exceptions\n",
    "* in C++11 all memory deallocation functions and all destructors, both user-defined and compiler-generated, are implicitly `noexcept`\n",
    "    * the destructor is `noexcept` only if a data member of the class is of a type which specifies `'noexcept(false)'`\n"
   ]
  },
  {
   "cell_type": "markdown",
   "metadata": {},
   "source": [
    "<pre><code>\n",
    "<font color=\"blue\">int</font> f(<font color=\"blue\">int</font> x) <font color=\"blue\">throw</font>();       <font color=\"green\">// C++98 style; call stack unwounded + actions + termination</font>\n",
    "<font color=\"blue\">int</font> f(<font color=\"blue\">int</font> x) <font color=\"blue\">noexcept</font>;      <font color=\"green\">// C++11 style; call stack is possibly unwounded + termination</font>\n",
    "</code></pre>"
   ]
  },
  {
   "cell_type": "markdown",
   "metadata": {},
   "source": [
    "<pre><code>\n",
    "<font color=\"blue\">template</font><<font color=\"blue\">class</font> T, <font color=\"blue\">size_t</font> N>\n",
    "<font color=\"blue\">void</font> swap(<font color=\"teal\">T</font> (&a)[N], <font color=\"teal\">T</font> (&b)[N]) <font color=\"blue\">noexcept</font>(<font color=\"blue\">noexcept</font>(swap(*a, *b)));\n",
    "\n",
    "<font color=\"blue\">template</font><<font color=\"blue\">class</font> T1, <font color=\"blue\">class</font> T2>\n",
    "<font color=\"blue\">struct</font> pair {\n",
    "    <font color=\"blue\">void</font> swap(<font color=\"teal\">pair</font>& p) <font color=\"blue\">noexcept</font>(<font color=\"blue\">noexcept</font>(swap(first, p.first)), <font color=\"blue\">noexcept</font>(swap(second, p.second)));\n",
    "}\n",
    "<font color=\"green\">// STL's std::swap for std::pair</font>\n",
    "</code></pre>"
   ]
  },
  {
   "cell_type": "markdown",
   "metadata": {},
   "source": [
    "**functions with wide contracts**: never exhibits undefined behaviors, noexcept-friendly\n",
    "\n",
    "**functions with narrow contracts**: if a precondition is violated, results are undefined\n"
   ]
  },
  {
   "cell_type": "markdown",
   "metadata": {},
   "source": [
    "<hr>"
   ]
  },
  {
   "cell_type": "markdown",
   "metadata": {},
   "source": [
    "## CONSTEXPR OBJECTS AND FUNCTIONS\n",
    "* conceptually, `constexpr` indicates a value that's not only constant, it's known during compilation\n",
    "* `constexpr` proclaims 'I can be used in a context where C++ requires a constant expression'\n",
    "* by using `constexpr` whenever possible, you maximize the range of situations in which your objects and functions may be used\n",
    "* when applied to **objects**, it's essentially a beefed-up form of `const`\n",
    "    * `constexpr` objects values are determined during translation (compilation + linking)\n",
    "    * values known during compilation may be placed in read-only memory (embedded systems)\n",
    "    * `constexpr` values can be used in contexts where C++ requires an integral constant expression (array sizes, integral template arguments, enumerator values, alignment specifiers, ...)\n",
    "    * all `constexpr` objects are `const`, but not all `const` objects are `constexpr`\n",
    "* when applied to **functions**, things are more nuanced\n",
    "    * the results of `constexpr` functions may not be `const`, nor their values are known during compilation\n",
    "    * `constexpr` functions produce compile-time constants when they are called with compile-time constants\n",
    "* I/O statements are generally not permitted in `constexpr` functions\n",
    "    * if any of the arguments' values is not known during compilation, your code will be rejected (in contexts that demand compile-time constants)\n",
    "    * `constexpr` function called with one or more values that are not known during compilation, it acts like a normal function, computing its result at runtime\n",
    "    * restrictions imposed upon `constexpr` functions implementation differ between C++11 and C++14\n",
    "    * in C++11, `constexpr` functions may contain no more than a single executable return statement, yet `ternary operator '?:'` and recursion are allowed\n",
    "    * in C++11, `constexpr` member function cannot modify the object, they are implicitly `const`, they have `void` return types which isn't a literal type\n",
    "    * in C++14, `constexpr` functions are limited to taking and returning literal types, which essentially means types that can have values determined during compilation (all built-in types except `void`, user-defined class with `constexpr` constructor)\n",
    "    "
   ]
  },
  {
   "cell_type": "markdown",
   "metadata": {},
   "source": [
    "<pre><code>\n",
    "<font color=\"blue\">int</font> sz;\n",
    "<font color=\"blue\">const auto</font> arraySize = sz;\n",
    "<font color=\"teal\">std::array</font><<font color=\"blue\">int</font>, arraySize> data;        <font color=\"green\">// ERROR, arraySize not known during compilation</font>\n",
    "<font color=\"blue\">constexpr auto</font> arraySize2 = 10;\n",
    "<font color=\"teal\">std::array</font><<font color=\"blue\">int</font>, arraySize2> data2;      <font color=\"green\">// OK, arraySize2 is constexpr</font>\n",
    "</code></pre>"
   ]
  },
  {
   "cell_type": "markdown",
   "metadata": {},
   "source": [
    "<pre><code>\n",
    "<font color=\"blue\">constexpr int</font> pow(<font color=\"blue\">int</font> base, <font color=\"blue\">int</font> exp) <font color=\"blue\">noexcept</font> {\n",
    "    <font color=\"blue\">return</font> (exp == 0 <font color=\"red\">?</font> 1 <font color=\"red\">:</font> base * pow(base, exp - 1));\n",
    "} <font color=\"green\">// C++11</font>\n",
    "\n",
    "<font color=\"blue\">constexpr int</font> pow(<font color=\"blue\">int</font> base, <font color=\"blue\">int</font> exp) <font color=\"blue\">noexcept</font> {\n",
    "    <font color=\"blue\">auto</font> result = 1;\n",
    "    <font color=\"blue\">for</font> (<font color=\"blue\">int</font> i=0; i&lt;exp; ++i) result *= base;\n",
    "    <font color=\"blue\">return</font> result;\n",
    "} <font color=\"green\">// C++14</font>\n",
    "</code></pre>"
   ]
  },
  {
   "cell_type": "markdown",
   "metadata": {},
   "source": [
    "<pre><code>\n",
    "<font color=\"blue\">class</font> Point {\n",
    "<font color=\"blue\">public</font>:\n",
    "    <font color=\"blue\">constexpr</font> Point(<font color=\"blue\">double</font> xVal = 0, <font color=\"blue\">double</font> yVal = 0) <font color=\"blue\">noexcept</font> : x(xVal), y(yVal) {}\n",
    "    <font color=\"blue\">constexpr double</font> xValue() <font color=\"blue\">const noexcept</font> { <font color=\"blue\">return</font> x; }\n",
    "    <font color=\"blue\">constexpr double</font> yValue() <font color=\"blue\">const noexcept</font> { <font color=\"blue\">return</font> y }\n",
    "    <font color=\"blue\">constexpr void</font> setX(<font color=\"blue\">double</font> newX) <font color=\"blue\">noexcept</font> { x = newX; }\n",
    "    <font color=\"blue\">constexpr void</font> setY(<font color=\"blue\">double</font> newY) <font color=\"blue\">noexcept</font> { y = newY; }\n",
    "    \n",
    "<font color=\"blue\">private</font>:\n",
    "    <font color=\"blue\">double</font> x, y;\n",
    "}; <font color=\"green\">// constexpr setters are allowed in C++14</font>\n",
    "\n",
    "<font color=\"blue\">constexpr</font> <font color=\"teal\">Point</font> midpoint(<font color=\"blue\">const</font> <font color=\"teal\">Point</font>& p1, <font color=\"blue\">const</font> <font color=\"teal\">Point</font>& p2) <font color=\"blue\">noexcept</font> {\n",
    "    <font color=\"blue\">return</font> { (p1.xValue() + p2.xValue()) / 2, (p1.yValue() + p2.yValue()) / 2 };\n",
    "} <font color=\"green\">// non-member function</font>\n",
    "\n",
    "<font color=\"blue\">constexpr</font> <font color=\"teal\">Point</font> reflection(<font color=\"blue\">const</font> <font color=\"teal\">Point</font>& p) <font color=\"blue\">noexcept</font> {\n",
    "    <font color=\"teal\">Point</font> result;\n",
    "    result.setX(-p.xValue());\n",
    "    result.setY(-p.yValue());\n",
    "    <font color=\"blue\">return</font> result;\n",
    "}\n",
    "\n",
    "<font color=\"blue\">constexpr</font> <font color=\"teal\">Point</font> p1(9.4, 27.7);\n",
    "<font color=\"blue\">constexpr</font> <font color=\"teal\">Point</font> p2(28.8, 5.3);\n",
    "<font color=\"blue\">constexpr auto</font> mid = midpoint(p1, p2);             <font color=\"green\">// compile-time constants</font>\n",
    "<font color=\"blue\">constexpr auto</font> reflectedMid = reflection(mid);     <font color=\"green\">// (-19.1, -16.5) known during compilation</font>\n",
    "</code></pre>"
   ]
  },
  {
   "cell_type": "markdown",
   "metadata": {},
   "source": [
    "<hr>"
   ]
  },
  {
   "cell_type": "markdown",
   "metadata": {},
   "source": [
    "## CONST MEMBER FUNCTIONS\n",
    "* **mutable**: permits modification of the class member declared `mutable` even if the containing object is declared `const`; `mutable` is used to specify that the member does not affect the external visible state of the `class` (mutexes, memo caches, lazy evaluation, ...)\n",
    "* the safe bet is that `const` member functions will be a subject to concurrent execution, and that's why you should ensure that your `const` member functions are thread safe\n",
    "* only data that are `mutable & shared` requires synchronization\n",
    "    * unshared & mutable, unshared & immutable, shared & immutable are not the problem"
   ]
  },
  {
   "cell_type": "markdown",
   "metadata": {},
   "source": [
    "<pre><code>\n",
    "<font color=\"blue\">class</font> Polynomial {\n",
    "<font color=\"blue\">public</font>:\n",
    "    <font color=\"blue\">using</font> RootsType = <font color=\"teal\">std::vector</font><<font color=\"blue\">double</font>>;\n",
    "    \n",
    "    <font color=\"teal\">RootsType</font> roots() <font color=\"blue\">const</font> {\n",
    "        <font color=\"blue\">if</font> (!rootsAreValid) { cacheRoots(); rootsAreValid = <font color=\"blue\">true</font>; }\n",
    "        return rootVals;\n",
    "    }\n",
    "\n",
    "<font color=\"blue\">private</font>:\n",
    "    <font color=\"blue\">mutable bool</font> rootsAreValid{ <font color=\"blue\">false</font> };\n",
    "    <font color=\"blue\">mutable</font> RootsType rootVals{};\n",
    "};\n",
    "\n",
    "<font color=\"teal\">Polynomial</font> p;\n",
    "<font color=\"blue\">auto</font> rootsOfP = p.roots();                      <font color=\"green\">// thread 1</font>\n",
    "<font color=\"blue\">auto</font> valsGivingZero = p.roots();                <font color=\"green\">// thread 2\n",
    "// data race: reading and writing the same memory without synchronization\n",
    "// this code has undefined behavior\n",
    "// the easiest way to address the issue is to employ a mutex\n",
    "// mutable std::mutex m; as a field & std::lock_guard&lt;std::mutex&gt; g(m); in roots()\n",
    "// locking and unlocking are non-const operations, thus mutable keyword (also applying M&M rule)\n",
    "// std::mutex is a move-only type, thus Polynomial with m loses ability to be copy constructed</font>\n",
    "</code></pre>"
   ]
  },
  {
   "cell_type": "markdown",
   "metadata": {},
   "source": [
    "<pre><code>\n",
    "<font color=\"blue\">class</font> Point {\n",
    "<font color=\"blue\">public</font>:\n",
    "    <font color=\"blue\">double</font> distanceFromOrigin() <font color=\"blue\">const noexcept</font> {\n",
    "        ++callCount;\n",
    "        <font color=\"blue\">return</font> <font color=\"teal\">std::sqrt</font>((x * x) + (y * y));\n",
    "    }\n",
    "    \n",
    "<font color=\"blue\">private</font>:\n",
    "    <font color=\"blue\">mutable</font> <font color=\"teal\">std::atomic</font><<font color=\"blue\">unsigned</font>> callCount{ 0 };\n",
    "    <font color=\"blue\">double</font> x, y;\n",
    "};\n",
    "<font color=\"green\">// counting how many times a member function is called\n",
    "// std::atomics are often a less expensive way to go than std::mutexes</font>\n",
    "</code></pre>"
   ]
  },
  {
   "cell_type": "markdown",
   "metadata": {},
   "source": [
    "<hr>"
   ]
  },
  {
   "cell_type": "markdown",
   "metadata": {},
   "source": [
    "## SPECIAL MEMBER FUNCTION GENERATION\n",
    "* in official C++ parlance, the special member functions are the ones that C++ is willing to generate on its own\n",
    "    * these functions are generated only if they're needed, i.e., if some code uses them without their being expressly declared in the class\n",
    "* C++98 has four such functions: the `default constructor`, the `destructor`, the `copy constructor`, the `copy assignment operator`\n",
    "* C++11 has six such functions: the `default constructor`, the `destructor`, the `copy constructor`, the `copy assignment operator`, the `move constructor`, the `move assignment operator`\n",
    "    * generated special member functions are implicitly `public` and `inline`\n",
    "    * a `default constructor` is generated only if the class declares no constructor at all\n",
    "    * a `destructor` is `noexcept` by default, and is `virtual` only if a base class destructor is `virtual`\n",
    "    * a `copy constructor` is generated only if the class lacks a user-declared copy constructor\n",
    "        * deleted if the class declares a move operation\n",
    "        * won't be generated in a class with a user-declared copy assignment operator or destructor\n",
    "    * a `copy assignment operator` is generated only if the class lacks a user-declared copy assignment operator\n",
    "        * deleted if the class declares a move operation\n",
    "        * won't be generated in a class with a user-declared copy constructor or destructor\n",
    "    * a `move constructor` and a `move assignment operator` is generated only if the class contains no user-declared copy operations, move operations, or destructor\n",
    "\n",
    "\n",
    "* the `move operations` perform 'memberwise moves' on the non-static data members of the class\n",
    "    * they also move-construct its base class parts if they are any\n",
    "    * the heart of each 'memberwise' move is application of `std::move`, that is a member will be moved if it is `move-enabled` (if it supports move semantics), otherwise it'll be copied\n",
    "* the `move operations` are generated when they're needed\n",
    "    * the move operations aren't generated if you declare them yourself\n",
    "* copy operations are `independent`: copy constructor and copy assignment operator comes together (when both copy operations are treated as defaulted)\n",
    "* move operations are `dependent`: if you declare either, that prevents compilers from generating the other\n",
    "    * move operations won't be generated for any class that explicitly declares a copy operation\n",
    "    * the rationale is that if you need a custom move constructor, then there's probably something wrong about generated memberwise move assignment operator\n",
    "    * declaring a copy operation declares that the normal approach to memberwise copying an object isn't appropriate for the class\n",
    "        * declaring a move operation causes compilers to disable the copy operations by deleting them\n",
    "    * all of this is logical if you think about it, yet this is also about C++98-styled code to behave like in C++98\n",
    "    "
   ]
  },
  {
   "cell_type": "markdown",
   "metadata": {},
   "source": [
    "**The Rule of Three** states that if you declare any of a `copy constructor`, `copy assignment operator`, or `destructor`, you should declare all three. The justification for this is that almost always copy operation stemmed from the class performing some kind of resource management, which implied that:\n",
    "* whathever resource management was being done in one copy operation probably needed to be done in the other copy operation\n",
    "* the class destructor would also be participating in management of the resource, usually releasing it\n",
    "\n",
    "A consequence of the `Rule of Three` is that the presence of a `user-declared destructor` indicates that simple memberwise copy is unlikely to be appropriate for the copying operations in the class. The existence of a user-declared destructor has no impact on compilers' willingness to generate copy operations. That continues to be the case in C++11, but only because restricting the conditions would break too much legacy code (all STL containers declare 'the big three').\n",
    "\n",
    "So move operations are generated for classes (when needed) only if these three things are true:\n",
    "* no `copy operations` are declared in the class\n",
    "* no `move operations` are declared in the class\n",
    "* no `destructor` is declared in the class\n"
   ]
  },
  {
   "cell_type": "markdown",
   "metadata": {},
   "source": [
    "<pre><code>\n",
    "<font color=\"blue\">class</font> StringTable {\n",
    "<font color=\"blue\">public</font>:\n",
    "    StringTable() {}\n",
    "    \n",
    "<font color=\"blue\">private</font>:\n",
    "    <font color=\"teal\">std::map</font><<font color=\"blue\">int</font>, <font color=\"teal\">std::string</font>> values;\n",
    "};\n",
    "<font color=\"green\">// copy & move operations and destructor will automatically be generated if they'll be used\n",
    "// no user-declared copy operations, thus they'll be implicitly generated\n",
    "// no explicit copy & move operations and destructor allows for generated move operations</font>\n",
    "\n",
    "<font color=\"blue\">class</font> StringTable {\n",
    "<font color=\"blue\">public</font>:\n",
    "    StringTable() { makeLogEntry(<font color=\"purple\">\"Creating StringTable object.\"</font>); }\n",
    "    ~StringTable() { makeLogEntry(<font color=\"purple\">\"Destroying StringTable object.\"</font>); }\n",
    "\n",
    "<font color=\"blue\">private</font>:\n",
    "    <font color=\"teal\">std::map</font><<font color=\"blue\">int</font>, <font color=\"teal\">std::string</font>> values;\n",
    "};\n",
    "<font color=\"green\">// destructor side effect: it prevents the move operations from being generated\n",
    "// the class is no longer move-enabled, but move requests will compile and run (as copies)</font>\n",
    "\n",
    "<font color=\"blue\">class</font> StringTable {\n",
    "<font color=\"blue\">public</font>:\n",
    "    StringTable() { makeLogEntry(<font color=\"purple\">\"Creating StringTable object.\"</font>); }\n",
    "    ~StringTable() { makeLogEntry(<font color=\"purple\">\"Destroying StringTable object.\"</font>); };\n",
    "    StringTable(<font color=\"teal\">StringTable</font>&&) = <font color=\"blue\">default</font>;\n",
    "    StringTable(<font color=\"blue\">const</font> <font color=\"teal\">StringTable</font>&) = <font color=\"blue\">default</font>;\n",
    "    StringTable& <font color=\"blue\">operator</font>=(<font color=\"teal\">StringTable</font>&&) = <font color=\"blue\">default</font>;\n",
    "    StringTable& <font color=\"blue\">operator</font>=(<font color=\"blue\">const</font> <font color=\"teal\">StringTable</font>&) = <font color=\"blue\">default</font>;\n",
    "};\n",
    "<font color=\"green\">// no previous problems\n",
    "// defaulted default constructor: implicitly defined even if other constructors are present</font>\n",
    "</code></pre>"
   ]
  },
  {
   "cell_type": "markdown",
   "metadata": {},
   "source": [
    "<pre><code>\n",
    "<font color=\"blue\">class</font> Widget {\n",
    "    <font color=\"blue\">template</font><<font color=\"blue\">typename</font> T> Widget(<font color=\"blue\">const T</font>& rhs);\n",
    "    <font color=\"blue\">template</font><<font color=\"blue\">typename</font> T> Widget& <font color=\"blue\">operator</font>=(<font color=\"blue\">const T</font>& rhs);\n",
    "};\n",
    "<font color=\"green\">// member function template: construct/assign Widget from anything\n",
    "// compilers will still generate copy and move operations for Widget beside this templates</font>\n",
    "</code></pre>"
   ]
  },
  {
   "cell_type": "markdown",
   "metadata": {},
   "source": [
    "<pre><code>\n",
    "<font color=\"blue\">class</font> Base {\n",
    "<font color=\"blue\">public</font>:\n",
    "    <font color=\"blue\">explicit</font> Base(<font color=\"blue\">int</font>) {}\n",
    "    <font color=\"blue\">virtual</font> ~Base() <font color=\"blue\">noexcept = default</font>;              <font color=\"green\">// virtual for polymorphic base class</font>\n",
    "    Base(<font color=\"teal\">Base</font>&&) = <font color=\"blue\">default</font>;                          <font color=\"green\">// moving</font>\n",
    "    Base& <font color=\"blue\">operator</font>=(<font color=\"teal\">Base</font>&&) = <font color=\"blue\">default</font>;               <font color=\"green\">// moving at assignment</font>\n",
    "    Base(<font color=\"blue\">const</font> Base&) = <font color=\"blue\">default</font>;                     <font color=\"green\">// copying</font>\n",
    "    Base& <font color=\"blue\">operator</font>=(<font color=\"blue\">const</font> <font color=\"teal\">Base</font>&) = <font color=\"blue\">default</font>;          <font color=\"green\">// copying at assignment</font>\n",
    "};\n",
    "<font color=\"green\">// The Rule of Five</font>\n",
    "</code></pre>"
   ]
  },
  {
   "cell_type": "markdown",
   "metadata": {},
   "source": [
    "A constructor with a single non-default parameter (until C++11) that is declared without the function specifier `explicit` is called a `converting constructor`. It is said that a converting constructor specifies an implicit conversion from the types of its arguments (if any) to the type of its class. Implicitly-declared and user-defined non-explicit `copy constructors` and `move constructors` are converting constructors."
   ]
  },
  {
   "cell_type": "markdown",
   "metadata": {},
   "source": [
    "<hr>"
   ]
  },
  {
   "cell_type": "markdown",
   "metadata": {},
   "source": [
    "## STD::UNIQUE_PTR\n",
    "* it's the same as `std::auto_ptr` but with move semantics that is unavailable in C++98\n",
    "* by default, `std::unique_ptr's` are the same size as raw pointers (safe assumption)\n",
    "* `std::unique_ptr` embodies exclusive ownership semantics\n",
    "* a non-null `std::unique_ptr` always owns what it points to\n",
    "* copying a `std::unique_ptr` isn't allowed, because it is a `move-only type`\n",
    "* the common use cases for `std::unique_ptr's` are factory functions and Pimpl Idiom implementation\n",
    "* there is no indexing `operator[]` for the single-object form `std::unique_ptr<T>`, while the array form `std::unique_ptr<T[]>` lacks dereferencing operators (`operator*` and `operator->`)\n",
    "    * `std::unique_ptr<T[]>` make sense when you're using a C-like API that returns a raw pointer to a heap array that you assume ownership of\n",
    "    * `std::array`, `std::vector`, `std::string` are virtually always better data structures choices than raw pointers\n",
    "* if `std::unique_ptr` is a data member and object is being destroyed, `std::unique_ptr` would be also destroyed\n",
    "    * if the ownership chain got interrupted due to an exception or other atypical control flow, the `std::unique_ptr` owning the managed resource would eventually have its destructor called\n",
    "    * if an exception propagates out of a thread's primary function (for the program's initial thread) or if a `noexcept` specification is violated, local objects may not be destroyed\n",
    "    * if `std::abort` or an exit function (`std::exit`, `std::quick_exit`, `std::_Exit`) is called, local objects definitely won't be destroyed\n",
    "* by default, `std::unique_ptr` destruction would take place via `delete`, but, during construction, `std::unique_ptr` objects can be configured to use `custom deleters` (arbitrary functions, function objects, function pointers)\n",
    "    * custom deleters may change the size of the smart pointer\n",
    "        * deleters that are `function pointers` generally cause the size of a `std::unique_ptr` to grow from one word to two\n",
    "        * for `function object` deleters the change in size is the sizeof() that function object\n",
    "        * `stateless function objects` (from `lambda expressions` with no captures) incur no size penalty\n",
    "    * when a `custom deleter` is to be used, its type must be specified as the second type argument to `std::unique_ptr`\n",
    "        * deleter type is part of a pointer type\n",
    "    * for custom deleters objects will ultimately be deleted via a base class pointer, thus, for that to work, the base class must have a `virtual` destructor\n",
    "* C++11's smart pointers prohibit implicit conversions from a raw to smart pointer\n",
    "    * to assume ownership of the object created via `new` we are using `reset()`\n",
    "    * in templates, each use of `new` should be perfect-forwarded with `std::forward` for passed arguments to the function template\n",
    "* `std::unique_ptr` easily and efficiently converts to a `std::shared_ptr`\n"
   ]
  },
  {
   "cell_type": "markdown",
   "metadata": {},
   "source": [
    "<pre><code>\n",
    "<font color=\"blue\">template</font><<font color=\"blue\">typename</font>... Ts> <font color=\"blue\">auto</font> makeInvestment(Ts&&... params) {\n",
    "    <font color=\"blue\">auto</font> delInvmt = [](<font color=\"teal\">Investment</font>* pInvestment) {\n",
    "        makeLogEntry(pInvestment);\n",
    "        <font color=\"blue\">delete</font> pInvestment;\n",
    "    };\n",
    "    \n",
    "    <font color=\"teal\">std::unique_ptr</font><<font color=\"teal\">Investment</font>, <font color=\"blue\">decltype</font>(delInvmt)> pInv(<font color=\"blue\">nullptr</font>, delInvmt);\n",
    "    <font color=\"blue\">if</font> (stock) { pInv.reset(<font color=\"blue\">new</font> <font color=\"teal\">Stock</font>(std::forward<Ts>(params)...)); }\n",
    "    <font color=\"blue\">else if</font> (bond) { pInv.reset(<font color=\"blue\">new</font> <font color=\"teal\">Bond</font>(std::forward<Ts>(params)...)); }\n",
    "    <font color=\"blue\">else if</font> (realEstate) { pInv.reset(<font color=\"blue\">new</font> <font color=\"teal\">RealEstate</font>(std::forward<Ts>(params)...)); }\n",
    "    <font color=\"blue\">return</font> pInv;\n",
    "} \n",
    "<font color=\"green\">// C++14; Stock & Bond & RealEstate : Investment</font>\n",
    "\n",
    "<font color=\"blue\">template</font><<font color=\"blue\">typename</font>... Ts> \n",
    "<font color=\"teal\">std::unique_ptr</font><<font color=\"teal\">Investment</font>, <font color=\"blue\">void</font> (*)(<font color=\"teal\">Investment</font>*)> makeInvestment(Ts&&... params);\n",
    "<font color=\"green\">// sizeof(Investment) + sizeof(void (*)(Investment*))</font>\n",
    "\n",
    "<font color=\"teal\">std::shared_ptr</font><<font color=\"teal\">Investment</font>> sp = makeInvestment(arguments);\n",
    "<font color=\"green\">// implicit conversion to std::shared_ptr</font>\n",
    "</code></pre>"
   ]
  },
  {
   "cell_type": "markdown",
   "metadata": {},
   "source": [
    "<hr>"
   ]
  },
  {
   "cell_type": "markdown",
   "metadata": {},
   "source": [
    "## STD::SHARED_PTR\n",
    "* an object accessed via `std::shared_ptr's` has its lifetime managed by those pointers through shared ownership\n",
    "* no specific `std::shared_ptr` owns the object\n",
    "    * instead, all `std::shared_ptr's` pointing to it collaborate to ensure its destruction at the point where it's no longer needed \n",
    "    * when the last `std::shared_ptr` pointing to an object stops pointing there, that `std::shared_ptr` destroys the object it points to\n",
    "* a `std::shared_ptr` can tell whether it's the last one pointing to a resource by consulting the resource's `reference count`, a value associated with the resource that keeps track of how many `std::shared_ptr's` point to it\n",
    "    * `std::shared_ptr` constructors increment this count (usually)\n",
    "    * move construction and move assignment is faster than its copy equivalents, because it doesn't require incrementing the `reference count`\n",
    "    * `std::shared_ptr` destructors decrement it\n",
    "    * copy assignment operators do both\n",
    "* the existence of the `reference count` has its performance implications\n",
    "    * `std::shared_ptr's` are twice the size of a raw pointer\n",
    "        * raw pointer to the resource + raw pointer to the resource's reference count\n",
    "    * memory for the `reference count` must be dynamically allocated\n",
    "        * pointed to objects have no place to store a reference count\n",
    "        * cost of this may be avoided using `std::make_shared`\n",
    "    * increments and decrements of the `reference count` must be `atomic` (to be thread-safe)\n",
    "* `std::shared_ptr` uses `delete` as its default resource-destruction mechanism\n",
    "* `std::shared_ptr` supports `custom deleters`\n",
    "    * deleter type is not part of pointer type\n",
    "    * specifying a custom deleter doesn't change the size of a `std::shared_ptr` object\n",
    "    * regardless of deleter, a `std::shared_ptr` object is two pointers in size\n",
    "    * custom deleters cannot be combined with `std::make_shared`\n",
    "* the `reference count` is part of a larger data structure known as the `control block`\n",
    "    * there's a control block for each object managed by `std::shared_ptr's`\n",
    "    * control block may contains the reference count, a `weak count` (a secondary reference count), other data (custom deleters, custom allocators, ...)\n",
    "    * thus, reinvisioned, `std::shared_ptr<T>` contains `PtrToT` and `PtrToControlBlock`\n",
    "    * we assume that an object's control block is set up by the function creating the first `std::shared_ptr` to the object; in practice, we use rules for control block creation\n",
    "        * `std::make_shared` always create a control block\n",
    "        * a control block is created when a `std::shared_ptr` is constructed from a unique-ownership pointer\n",
    "        * when a `std::shared_ptr` constructor is called with a raw pointer, it creates a control block\n",
    "    * the usual control block implementation makes use of `inheritance` and `virtual function` to ensure that the pointed-to object is properly destroyed\n",
    "* having dynamically allocated control block, arbitrarily large deleters and allocators, virtual function machinery, and atomic reference count manupulations, `std::shared_ptr` exact a very reasonable cost\n",
    "    * the `control block` is only about three words in size, in typical conditions (defaulted)\n",
    "    * its allocation is essentially free (it's incorporated into the memory allocation for the object being pointed to)\n",
    "    * dereferencing is no more expensive than dereferencing a raw pointer\n",
    "    * `atomic` operations entails to one-two individual machine instructions\n",
    "    * the `virtual function machinery` in the control block is generally used only once per object at destruction time\n",
    "* `std::shared_ptr's` are designed only for pointers to single objects, there's no `std::shared_ptr<T[]>`\n",
    "    * you still can point to an array with `array-to-pointer decay` and specify a custom deleter with `delete[]`, yet `std::shared_ptr` offers no `operator[]`, so indexing requires expressions based on pointer arithmetic\n",
    "    * declaring a smart pointer to a dumb array is almost always a sign of a bad design (use `std::vector` instead)\n",
    "    "
   ]
  },
  {
   "cell_type": "markdown",
   "metadata": {},
   "source": [
    "<pre><code>\n",
    "sp1 = sp2;\n",
    "<font color=\"green\">// the reference count for sp1 is decremented, for sp2 is incremented</font>\n",
    "\n",
    "\n",
    "<font color=\"blue\">auto</font> loggingDel = [](<font color=\"teal\">Widget</font> *pw) {\n",
    "    makeLogEntry(pw);\n",
    "    <font color=\"blue\">delete</font> pw;\n",
    "};\n",
    "\n",
    "<font color=\"teal\">std::unique_ptr</font><<font color=\"teal\">Widget</font>, <font color=\"blue\">decltype</font>(loggingDel)> upw(<font color=\"blue\">new</font> <font color=\"teal\">Widget</font>, loggingDel);\n",
    "<font color=\"teal\">std::shared_ptr</font><<font color=\"teal\">Widget</font>> spw(<font color=\"blue\">new</font> <font color=\"teal\">Widget</font>, loggingDel);\n",
    "\n",
    "\n",
    "<font color=\"blue\">auto</font> pw = <font color=\"blue\">new</font> <font color=\"teal\">Widget</font>;                                  <font color=\"green\">// raw pointer</font>\n",
    "<font color=\"teal\">std::shared_ptr</font><<font color=\"teal\">Widget</font>> spw1(pw, loggingDel);          <font color=\"green\">// create control block for *pw</font>\n",
    "<font color=\"teal\">std::shared_ptr</font><<font color=\"teal\">Widget</font>> spw2(pw, loggingDel);          <font color=\"green\">// create control block for *pw\n",
    "                                                       // undefined behavior</font>\n",
    "<font color=\"teal\">std::shared_ptr</font><<font color=\"teal\">Widget</font>> spw2(spw1);                    <font color=\"green\">// same control block as spw1</font>\n",
    "</code></pre>"
   ]
  },
  {
   "cell_type": "markdown",
   "metadata": {},
   "source": [
    "<pre><code>\n",
    "<font color=\"teal\">std::vector</font><<font color=\"teal\">std::shared_ptr</font><<font color=\"teal\">Widget</font>>> processedWidgets;\n",
    "\n",
    "<font color=\"blue\">void</font> Widget::process() {\n",
    "    processedWidgets.emplace_back(<font color=\"blue\">this</font>);\n",
    "    <font color=\"green\">// it's passing a raw pointer to a container of std::shared_ptr's\n",
    "    // thus they will create a new control block for the pointed-to Widget of *this\n",
    "    // if there are std::shared_ptr's outside the member function that already point to that Widget,\n",
    "    // it's match for undefined behavior</font>\n",
    "}\n",
    "\n",
    "<font color=\"blue\">class</font> Widget : <font color=\"blue\">public</font> std::enable_shared_from_this<<font color=\"teal\">Widget</font>> { ... };\n",
    "<font color=\"green\">// if you want to be able to safely create a std::shared_ptr from a this pointer\n",
    "// The Curiously Recurring Template Pattern (CRTP)\n",
    "// a derived class inherits from a base class by templatizing on a derived class</font>\n",
    "\n",
    "<font color=\"blue\">void</font> Widget::process() {\n",
    "    processedWidgets.emplace_back(shared_from_this());\n",
    "    <font color=\"green\">// add std::shared_ptr to current object to processedWidgets\n",
    "    // std::enable_shared_from_this::shared_from_this is a member function\n",
    "    // internally, it looks up the control block for the current object, and creates a referee\n",
    "    // the design relies on the current object having an associated control block\n",
    "    // so, there must an existing std::shared_ptr that points to the current object\n",
    "    // if no such std::shared_ptr exists, behavior is undefined (but may throw an exception)</font>\n",
    "}\n",
    "</code></pre>"
   ]
  },
  {
   "cell_type": "markdown",
   "metadata": {},
   "source": [
    "<hr>"
   ]
  },
  {
   "cell_type": "markdown",
   "metadata": {},
   "source": [
    "## STD::WEAK_PTR\n",
    "* `std::weak_ptr` tracks when it dangles, that is when the object it is supposed to point to no longer exists\n",
    "    * `std::weak_ptr's` can detect when they dangle only when an object's lifetime is managed by `std::shared_ptr's`\n",
    "* `std::weak_ptr's` are typically created from `std::shared_ptr's`, but they don't affect the `reference count` of the object they point to\n",
    "* `std::weak_ptr` is an augmentation of `std::shared_ptr`\n",
    "    * `std::weak_ptr` can't be dereferenced\n",
    "    * `std::weak_ptr` can't be testes for nullness\n",
    "* accessing `std::weak_ptr` may be done by creating a `std::shared_ptr` from the `std::weak_ptr`\n",
    "* `std::weak_ptr's` objects are the same size as `std::shared_ptr's`, they make use of the same `control blocks`\n",
    "* `std::weak_ptr's` don't participate in the shared ownership of objects\n",
    "    * there's a second reference count in the control block, and it's manipulated by them (`weak count`)\n",
    "* as long as `std::weak_ptr` refer to a control block, that control block must continue to exist\n",
    "\n",
    "* as a use case for `std::weak_ptr` consider factory function that loads and caches expensive objects\n",
    "    * a **second use case**: `Observer` design pattern\n",
    "    * in most implementations, each `subject` contains a data member holding pointers to its `observers`\n",
    "    * subjects have no interest in controlling the lifetime of their observers\n",
    "    * subjects have a great interest in making sure that if an observer gets destroyed, subjects don't try to subsequently access it\n",
    "\n",
    "    * a **third use case**: `A --(std::shared_ptr)--> B <--(std::shared_ptr)-- C`\n",
    "    * we want to have a pointer from B back to A\n",
    "    * there are three choices: a raw pointer, a `std::shared_ptr`, a `std::weak_ptr`\n",
    "    * a raw pointer won't be able to detect a dangling pointer\n",
    "    * a `std::shared_ptr` will provide a reference count of one for both A and B\n",
    "    * a `std::weak_ptr` will be able to detect dangling pointer and will not interfere with the reference count"
   ]
  },
  {
   "cell_type": "markdown",
   "metadata": {},
   "source": [
    "<pre><code>\n",
    "<font color=\"blue\">auto</font> spw = <font color=\"teal\">std::make_shared</font><<font color=\"teal\">Widget</font>>();\n",
    "<font color=\"teal\">std::weak_ptr</font><<font color=\"teal\">Widget</font>> wpw(spw);\n",
    "spw = <font color=\"blue\">nullptr</font>;\n",
    "\n",
    "<font color=\"blue\">if</font> (wpw.expired()) {\n",
    "    <font color=\"green\">// std::weak_ptr's that dangle are said to have expired\n",
    "    // note, that separating the check and the dereferencing action would introduce a race condition\n",
    "    // another thread might be involved, thus causing an undefined behavior</font>\n",
    "}\n",
    "\n",
    "<font color=\"blue\">auto</font> spw2 = wpw.lock();                         <font color=\"green\">// null if wpw expired</font>\n",
    "<font color=\"teal\">std::shared_ptr</font><<font color=\"teal\">Widget</font>> spw3(wpw);              <font color=\"green\">// if wpw expired throws std::bad_weak_ptr</font>\n",
    "</code></pre>"
   ]
  },
  {
   "cell_type": "markdown",
   "metadata": {},
   "source": [
    "<pre><code>\n",
    "<font color=\"teal\">std::shared_ptr</font><<font color=\"blue\">const</font> <font color=\"teal\">Widget</font>> fastLoadWidget(<font color=\"teal\">WidgetID</font> id) {\n",
    "    <font color=\"blue\">static</font> <font color=\"teal\">std::unordered_map</font><<font color=\"teal\">WidgetID</font>, <font color=\"teal\">std::weak_ptr</font><<font color=\"blue\">const</font> <font color=\"teal\">Widget</font>>> cache;\n",
    "    <font color=\"blue\">auto</font> objPtr = cache[id].lock();\n",
    "    \n",
    "    <font color=\"blue\">if</font> (!objPtr) {\n",
    "        objPtr = loadWidget(id);\n",
    "        cache[id] = objPtr;\n",
    "    }\n",
    "    \n",
    "    <font color=\"blue\">return</font> objPtr;\n",
    "}\n",
    "<font color=\"green\">// a factory function that produces smart pointers to read-only objects based on a unique ID\n",
    "// it's common for IDs to be used repeatedly, loadWidget() is an expensive call\n",
    "// reasonable optimization is caching and destroying Widgets when they're no longer in use</font>\n",
    "</code></pre>"
   ]
  },
  {
   "cell_type": "markdown",
   "metadata": {},
   "source": [
    "<hr>"
   ]
  },
  {
   "cell_type": "markdown",
   "metadata": {},
   "source": [
    "## STD::MAKE_UNIQUE & STD::MAKE_SHARED\n",
    "* `std::make_shared` is part of C++11, `std::make_unique` is part of C++14\n",
    "* STL `make functions` are: `std::make_shared`, `std::make_unique`, `std::allocate_shared`\n",
    "    * make function take an arbitrary set of arguments, perfect-forwards them to the constructor for a dynamically allocated object, and return a smart pointer to that object\n",
    "    * `std::allocate_shared` acts like `std::make_shared`, yet its first argument is an allocator object\n",
    "* there are two reasons to prefer make functions\n",
    "    * `make function` don't repeat type being created, `new` does\n",
    "    * it provides exception safety\n",
    "    * for `std::unique_ptr` custom deleters and braced initializers are scenerios where make functions are problematic\n",
    "    * for `std::shared_ptr` problematic are custom deleters, braced initializers, custom operator `new`, custom operator `delete`\n",
    "* `std::make_shared` improves code efficiency; this also applicable to `std::allocate_shared`\n",
    "* make functions do not permit of `custom deleters`\n",
    "* if the object type is quite large and the time between destruction of the last `std::shared_ptr` and the last `std::weak_ptr` is significant, a lag can occur between when an object is destroyed and when the memory it occupied is freed\n"
   ]
  },
  {
   "cell_type": "markdown",
   "metadata": {},
   "source": [
    "<pre><code>\n",
    "<font color=\"blue\">auto</font> upw1(<font color=\"teal\">std::make_unique</font><<font color=\"teal\">Widget</font>>());\n",
    "<font color=\"teal\">std::unique_ptr</font><<font color=\"teal\">Widget</font>> upw2(<font color=\"blue\">new</font> Widget);\n",
    "\n",
    "<font color=\"blue\">void</font> processWidget(<font color=\"teal\">std::shared_ptr</font><<font color=\"teal\">Widget</font>> spw, <font color=\"blue\">int</font> priority);\n",
    "<font color=\"blue\">int</font> computePriority();\n",
    "processWidget(<font color=\"teal\">std::shared_ptr</font><<font color=\"teal\">Widget</font>>(<font color=\"blue\">new</font> <font color=\"teal\">Widget</font>), computePriority());\n",
    "<font color=\"green\">// potential resource leak\n",
    "// compilers may emit code in order: new Widget, computePriority(), std::shared_ptr constructor</font>\n",
    "processWidget(<font color=\"teal\">std::make_shared</font><<font color=\"teal\">Widget</font>>(), computePriority());\n",
    "<font color=\"green\">// if exception will be thrown, std::shared_ptr destructor will be invoked</font>\n",
    "\n",
    "<font color=\"teal\">std::shared_ptr</font><<font color=\"teal\">Widget</font>> spw(<font color=\"blue\">new</font> Widget);        <font color=\"green\">// 2 allocations: Widget + control block</font>\n",
    "<font color=\"blue\">auto</font> spw = <font color=\"teal\">std::make_shared</font><<font color=\"teal\">Widget</font>>();          <font color=\"green\">// 1 allocation: ditto but in single chunk</font>\n",
    "\n",
    "<font color=\"blue\">auto</font> widgetDeleter = [](<font color=\"teal\">Widget</font>* pw) {};\n",
    "<font color=\"teal\">std::unique_ptr</font><<font color=\"teal\">Widget</font>, <font color=\"blue\">decltype</font>(widgetDeleter)> upw(<font color=\"blue\">new</font> <font color=\"teal\">Widget</font>, widgetDeleter);\n",
    "<font color=\"teal\">std::shared_ptr</font><<font color=\"teal\">Widget</font>> spw(<font color=\"blue\">new</font> <font color=\"teal\">Widget</font>, widgetDeleter);\n",
    "<font color=\"green\">// cannot be done using make functions</font>\n",
    "</code></pre>"
   ]
  },
  {
   "cell_type": "markdown",
   "metadata": {},
   "source": [
    "<pre><code>\n",
    "<font color=\"blue\">auto</font> initList = { 10, 20 };\n",
    "<font color=\"blue\">auto</font> spv = <font color=\"teal\">std::make_shared</font><<font color=\"teal\">std::vector</font><<font color=\"blue\">int</font>>>(initList);\n",
    "<font color=\"green\">// initList is a std::initializer_list object\n",
    "// std::vector's perfect-forward code using parentheses, not braces\n",
    "// if you want to construct pointed-to object using a braced initializers, you must use new directly\n",
    "// braced initializers can't be perfect-forwarded\n",
    "// using auto type deduction to create a std::initializer_list object is a workaround</font>\n",
    "</code></pre>"
   ]
  },
  {
   "cell_type": "markdown",
   "metadata": {},
   "source": [
    "<pre><code>\n",
    "<font color=\"blue\">class</font> ReallyBigType {};\n",
    "<font color=\"blue\">auto</font> pBigObj = <font color=\"teal\">std::make_shared</font><<font color=\"teal\">ReallyBigType</font>>();\n",
    "<font color=\"green\">// 1. Creating and working with std::shared_ptr's and std::weak_ptr's.\n",
    "// 2. Last std::shared_ptr is being destroyed, but std::weak_ptr's remain.\n",
    "// 3. Memory formerly occupied by large object remains allocated.\n",
    "// 4. Last std::weak_ptr is being destroyed, memory for control block and object is released.</font>\n",
    "\n",
    "<font color=\"teal\">std::shared_ptr</font><<font color=\"teal\">ReallyBigType</font>> pBigObj(<font color=\"blue\">new</font> <font color=\"teal\">ReallyBigType</font>);\n",
    "<font color=\"green\">// 1. As before.\n",
    "// 2. As before, plus memory object is deallocated.\n",
    "// 3. Only memory for the control block remains allocated.\n",
    "// 4. Last std::weak_ptr is being destroyed, memory for control block is released.</font>\n",
    "</code></pre>"
   ]
  },
  {
   "cell_type": "markdown",
   "metadata": {},
   "source": [
    "<pre><code>\n",
    "<font color=\"blue\">void</font> processWidget(<font color=\"teal\">std::shared_ptr</font><<font color=\"teal\">Widget</font>> spw, <font color=\"blue\">int</font> priority);\n",
    "<font color=\"blue\">void</font> cusDel(<font color=\"teal\">Widget</font> *ptr);\n",
    "processWidget(<font color=\"teal\">std::shared_ptr</font><<font color=\"teal\">Widget</font>>(<font color=\"blue\">new</font> <font color=\"teal\">Widget</font>, cusDel), computePriority());\n",
    "<font color=\"green\">// exception-unsafe call; we're passing an rvalues to processWidget()</font>\n",
    "\n",
    "<font color=\"teal\">std::shared_ptr</font><<font color=\"teal\">Widget</font>> spw(<font color=\"blue\">new</font> <font color=\"teal\">Widget</font>, cusDel);\n",
    "processWidget(spw, computePriority());\n",
    "<font color=\"green\">// when you use new directly, immediately pass the result to a smart pointer constructor...\n",
    "// in a statement that does nothing else (compiler code emitting technique)\n",
    "// if spw's constructor throws an exception, it's guaranteed that cusDel will be invoked\n",
    "// we're passing an lvalue to processWidget()</font>\n",
    "\n",
    "processWidget(std::move(spw), computePriority());\n",
    "<font color=\"green\">// optimization; moving std::shared_ptr requires no reference count manipulation</font>\n",
    "</code></pre>"
   ]
  },
  {
   "cell_type": "markdown",
   "metadata": {},
   "source": [
    "<hr>"
   ]
  },
  {
   "cell_type": "markdown",
   "metadata": {},
   "source": [
    "## PIMPL IDIOM\n",
    "**Pimpl Idiom**: a 'pointer to implementation' idiom\n",
    "* that's the technique whereby you replace the data members of a class with a pointer to an implementation class\n",
    "* used to combat excessive build times\n"
   ]
  },
  {
   "cell_type": "markdown",
   "metadata": {},
   "source": [
    "<pre><code>\n",
    "<font color=\"blue\">class</font> Widget {                           <font color=\"green\">// in header \"widget.h\"</font>\n",
    "<font color=\"blue\">public</font>:\n",
    "    Widget();\n",
    "    \n",
    "<font color=\"blue\">private</font>:\n",
    "    <font color=\"teal\">std::string</font> name;                    <font color=\"green\">// in header &lt;string&gt;</font>\n",
    "    <font color=\"teal\">std::vector</font><<font color=\"blue\">double</font>> data;            <font color=\"green\">// in header &lt;vector&gt;</font>\n",
    "    <font color=\"teal\">Gadget</font> g1, g2, g3;                   <font color=\"green\">// in header \"gadget.h\"</font>\n",
    "};\n",
    "<font color=\"green\">// if a header's content changes, Widget clients must recompile</font>\n",
    "\n",
    "\n",
    "<font color=\"blue\">class</font> Widget {                           <font color=\"green\">// in header \"widget.h\"</font>\n",
    "<font color=\"blue\">public</font>:\n",
    "    Widget();\n",
    "    ~Widget();                           <font color=\"green\">// needed</font>\n",
    "    \n",
    "<font color=\"blue\">private</font>:\n",
    "    <font color=\"blue\">struct</font> Impl;                         <font color=\"green\">// just declared type (incomplete type)</font>\n",
    "    <font color=\"teal\">Impl</font> *pImpl;\n",
    "};\n",
    "<font color=\"green\">// if something changes in headers, Widget clients are unaffected</font>\n",
    "\n",
    "\n",
    "<font color=\"green\">#include \"widget.h\"                      // \"widget.cpp\"\n",
    "#include \"gadget.h\"\n",
    "#include &lt;string&gt;\n",
    "#include &lt;vector&gt;</font>\n",
    "\n",
    "<font color=\"blue\">struct</font> Widget::<font color=\"teal\">Impl</font> {                    <font color=\"green\">// define data members</font>\n",
    "    <font color=\"teal\">std::string</font> name;\n",
    "    <font color=\"teal\">std::vector</font><<font color=\"blue\">double</font>> data;\n",
    "    <font color=\"teal\">Gadget</font> g1, g2, g3;\n",
    "};\n",
    "\n",
    "Widget::Widget() : pImpl(<font color=\"blue\">new</font> <font color=\"teal\">Impl</font>) {     <font color=\"green\">// allocate data members</font>\n",
    "}\n",
    "\n",
    "Widget::~Widget() {\n",
    "    <font color=\"blue\">delete</font> pImpl;                        <font color=\"green\">// destroy data members</font>\n",
    "}\n",
    "<font color=\"green\">// C++98 style</font>\n",
    "</code></pre>"
   ]
  },
  {
   "cell_type": "markdown",
   "metadata": {},
   "source": [
    "<pre><code>\n",
    "<font color=\"blue\">class</font> Widget {                           <font color=\"green\">// \"widget.h\"</font>\n",
    "<font color=\"blue\">public</font>:\n",
    "    Widget();\n",
    "<font color=\"blue\">private</font>:\n",
    "    <font color=\"blue\">struct</font> Impl;\n",
    "    <font color=\"teal\">std::unique_ptr</font><<font color=\"teal\">Impl</font>> pImpl;\n",
    "};\n",
    "\n",
    "<font color=\"blue\">struct</font> Widget::<font color=\"teal\">Impl</font> {                    <font color=\"green\">// \"widget.cpp\"</font>\n",
    "    <font color=\"teal\">std::string</font> name;\n",
    "    <font color=\"teal\">std::vector</font><<font color=\"blue\">double</font>> data;\n",
    "    <font color=\"teal\">Gadget</font> g1, g2, g3;\n",
    "};\n",
    "\n",
    "Widget::Widget() : pImpl(std::make_unique<Impl>()) {\n",
    "}\n",
    "<font color=\"green\">// C++11 style</font>\n",
    "\n",
    "\n",
    "<font color=\"green\">#include \"widget.h\"</font>\n",
    "<font color=\"teal\">Widget</font> w;            <font color=\"green\">// ERROR, applying sizeof/delete to an incomplete type!\n",
    "                     // default deleter uses delete on a raw pointer\n",
    "                     // default deleter employ static_assert to an incomplete type\n",
    "                     // the type becomes complete when its definition has been seen</font>\n",
    "</code></pre>                     "
   ]
  },
  {
   "cell_type": "markdown",
   "metadata": {},
   "source": [
    "<pre><code>\n",
    "<font color=\"blue\">class</font> Widget {                                    <font color=\"green\">// \"widget.h\"</font>\n",
    "<font color=\"blue\">public</font>:\n",
    "    Widget();\n",
    "    ~Widget();                                    <font color=\"green\">// declaration only</font>\n",
    "    Widget(<font color=\"teal\">Widget</font>&& rhs);                         <font color=\"green\">// declaration only</font>\n",
    "    Widget& <font color=\"blue\">operator</font>=(<font color=\"teal\">Widget</font>&& rhs);              <font color=\"green\">// declaration only</font>\n",
    "    Widget(<font color=\"blue\">const</font> <font color=\"teal\">Widget</font>& rhs);                    <font color=\"green\">// declaration only</font>\n",
    "    Widget& <font color=\"blue\">operator</font>=(<font color=\"blue\">const</font> <font color=\"teal\">Widget</font>& rhs);         <font color=\"green\">// declaration only</font>\n",
    "\n",
    "<font color=\"blue\">private</font>:\n",
    "    <font color=\"blue\">struct</font> Impl;\n",
    "    <font color=\"teal\">std::unique_ptr</font><<font color=\"teal\">Impl</font>> pImpl;\n",
    "};\n",
    "\n",
    "<font color=\"blue\">struct</font> Widget::<font color=\"teal\">Impl</font> {                             <font color=\"green\">// \"widget.cpp\"</font>\n",
    "    <font color=\"teal\">std::string</font> name;\n",
    "    <font color=\"teal\">std::vector</font><<font color=\"blue\">double</font>> data;\n",
    "    <font color=\"teal\">Gadget</font> g1, g2, g3;\n",
    "};\n",
    "\n",
    "Widget::Widget() : pImpl(std::make_unique<<font color=\"teal\">Impl</font>>()) {\n",
    "}\n",
    "\n",
    "Widget::~Widget() = <font color=\"blue\">default</font>;\n",
    "\n",
    "Widget::Widget(<font color=\"teal\">Widget</font>&& rhs) = <font color=\"blue\">default</font>;\n",
    "\n",
    "Widget& Widget::<font color=\"blue\">operator</font>=(<font color=\"teal\">Widget</font>&& rhs) = <font color=\"blue\">default</font>;\n",
    "\n",
    "Widget::Widget(<font color=\"blue\">const</font> <font color=\"teal\">Widget</font>& rhs) : pImpl(std::make_unique<<font color=\"teal\">Impl</font>>(*rhs.pIml)) {\n",
    "}\n",
    "\n",
    "Widget& Widget::<font color=\"blue\">operator</font>=(<font color=\"blue\">const</font> <font color=\"teal\">Widget</font>& rhs) {\n",
    "    *pImpl = *rhs.pImpl;\n",
    "    <font color=\"blue\">return</font> *<font color=\"blue\">this</font>;\n",
    "}\n",
    "<font color=\"green\">// applying move and copy support\n",
    "// move assignment operator needs to destroy the Impl object before reassigning it\n",
    "// consider w1 = w2; for already existing  Widget's w1 and w2\n",
    "// in terms of a move ctor, if an exception arises inside the ctor, dtor will invoke\n",
    "// copy operations calls compiler-generated Widget::Impl's copy operations</font>\n",
    "</code></pre>"
   ]
  },
  {
   "cell_type": "markdown",
   "metadata": {},
   "source": [
    "<pre><code>\n",
    "<font color=\"blue\">class</font> Widget {                          <font color=\"green\">// \"widget.h\"</font>\n",
    "<font color=\"blue\">public</font>:\n",
    "    Widget();                           <font color=\"green\">// plus compiler-generated special functions</font>\n",
    "    \n",
    "<font color=\"blue\">private</font>:\n",
    "    <font color=\"blue\">struct</font> Impl;\n",
    "    <font color=\"teal\">std::shared_ptr</font><<font color=\"teal\">Impl</font>> pImpl;\n",
    "};\n",
    "\n",
    "<font color=\"teal\">Widget</font> w1;\n",
    "<font color=\"blue\">auto</font> w2(std::move(w1));\n",
    "w1 = std::move(w2);\n",
    "<font color=\"green\">// for std::shared_ptr, the type of the deleter is not part of the type of the smart pointer\n",
    "// thus, pointed-to types need not be complete when compiler-generated special functions are employed</font>\n",
    "</code></pre>"
   ]
  },
  {
   "cell_type": "markdown",
   "metadata": {},
   "source": [
    "<hr>"
   ]
  },
  {
   "cell_type": "markdown",
   "metadata": {},
   "source": [
    "## THINGS TO REMEMBER\n",
    "\n",
    "**Item 1**\n",
    "* During template type deduction, arguments that are references are treated as non-references, i.e., their reference-ness is ignored.\n",
    "* When deducing types for universal reference parameters, `lvalue` arguments get special treatment.\n",
    "* When deducing types for by-value parameters, `const` and/or `volatile` arguments are treated as non-`const` and non-`volatile`.\n",
    "* During template type deduction, arguments that are array or function names decay to pointers, unless they're used to initialize references.\n",
    "\n",
    "**Item 2**\n",
    "* `auto` type deduction is usually the same as template type deduction, but `auto` type deduction assumes that a braced initializer represents a `std:initializer_list`, and template type deduction doesn't.\n",
    "* `auto` in a function return type or a lambda parameter implies template type deduction, not `auto` type deduction.\n",
    "\n",
    "**Item 3**\n",
    "* `decltype` almost always yields the type of a variable or expression without any modifications.\n",
    "* For `lvalue` expressions of type `T` other than names, `decltype` always reports a type of `T&`.\n",
    "* C++14 supports `decltype(auto)`, which, like `auto`, deduces a type from its initializer, but it performs the type deduction using the `decltype` rules.\n",
    "\n",
    "**Item 4**\n",
    "* Deduced types can often be seen using IDE editors, compiler error messages, and the `Boost TypeIndex` library.\n",
    "* The results of some tools may be neither helpful nor accurate, so an understanding of C++'s type deduction rules remains essential.\n",
    "\n",
    "**Item 5**\n",
    "* `auto` variables must be initialized, are generally immune to type mismatches that can lead to portability or efficiency problems, can ease the process of refactoring, and typically require less typing than variables with explicitly specified types.\n",
    "\n",
    "**Item 6**\n",
    "* 'Invisible' proxy types can cause `auto` to deduce the 'wrong' type for an initializing expression.\n",
    "* The `explicitly typed initializer idiom` forces `auto` to deduce the type you want it to have.\n",
    "\n",
    "**Item 7**\n",
    "* `Braced initialization` is the most widely usable initialization syntax, it prevents narrowing conversions, and it's immune to C++'s `most vexing parse`.\n",
    "* During constructor overload resolution, braced initializers are matched to `std::initializer_list` parameters if at all possible, even if other constructors offer seemingly better matches.\n",
    "* An example of where the choice between parentheses and braces can make a significant difference is creating a `std::vector<numeric_type>` with two arguments.\n",
    "* Choosing between parentheses and braces for object creation inside templates can be challenging.\n",
    "\n",
    "**Item 8**\n",
    "* Prefer `nullptr` to `0` and `NULL`.\n",
    "* Avoid overloading on integral and pointer types.\n",
    "\n",
    "**Item 9**\n",
    "* `typedef's` don't support templatization, but `alias` declarations do.\n",
    "* `Alias templates` avoid the '::type' suffix, and, in templates, the `'typename'` prefix often required to refer to `typedefs`.\n",
    "* C++14 offers `alias` templates for all the C++11 `type traits` transformations.\n",
    "\n",
    "**Item 10**\n",
    "* C++98-style `enums` are now known as `unscoped enums`.\n",
    "* Enumerators of `scoped enums` are visible only within the `enum`. They convert to other types only with a cast.\n",
    "* Both scoped and unscoped enums support specification of the underlying type. The default underlying type for scoped enums is `int`. Unscoped enums have no default underlying type.\n",
    "* Scoped enums may always be forward-declared. Unscoped enums may be forward-declared only if their declaration specifies an underlying type.\n",
    "\n",
    "**Item 11**\n",
    "* Prefer deleted functions to `private` undefined ones.\n",
    "* Any function may be deleted, including non-member functions and template instantiations.\n",
    "\n",
    "**Item 12**\n",
    "* Declare overriding functions `override`.\n",
    "* `Member function reference qualifiers` make it possible to treat `lvalue` and `rvalue` objects (`*this`) differently.\n",
    "\n",
    "**Item 13**\n",
    "* Prefer `const_iterators` to `iterators`.\n",
    "* In maximally generic code, prefer non-member versions of `begin`, `end`, `rbegin`, etc., over their member function counterparts.\n",
    "\n",
    "**Item 14**\n",
    "* `noexcept` is part of function's interface, and that means that callers may depend on it.\n",
    "* `noexcept` functions are more optimizable than non-`noexcept` functions.\n",
    "* `noexcept` is particularly valuable for the move operations, swap, memory deallocation functions, and destructors.\n",
    "* Most functions are `exception-neutral` rather than noexcept.\n",
    "\n",
    "**Item 15**\n",
    "* `constexpr objects` are `const` and are initialized with values known during compilation.\n",
    "* `constexpr functions` can produce compile-time results when called with arguments whose values are known during compilation.\n",
    "* `constexpr` objects and functions may be used in a wider range of contexts than non-`constexpr` objects and functions.\n",
    "* `constexpr` is part of an object's or function's interface.\n",
    "\n",
    "**Item 16**\n",
    "* Make `const` member functions thread safe unless you're certain they'll never be used in a concurrent context.\n",
    "* Use of `std::atomic` variables may offer better performance than a mutex, but they're suited for manipulation of only a single variable or memory location.\n",
    "\n",
    "**Item 17**\n",
    "* The special member functions are those compilers may generate on their own: default constructor, destructor, copy operations, and move operations.\n",
    "* Move operations are generated only for classes lacking explicitly declared move operations, copy operations, and a destructor.\n",
    "* The copy constructor is generated only for classes lacking an explicitly declared copy constructor, and it's deleted if a move operation is declared. The copy assignment operator is generated only for classes lacking an explicitly declared copy assignment operator, and it's deleted if a move operation is declared. Generation of the copy operations in classes with an explicitly declared destructor is deprecated.\n",
    "* Member function templates never suppress generation of special member functions.\n",
    "\n",
    "**Item 18**\n",
    "* `std::unique_ptr` is a small, fast, move-only smart pointer for managing resources with exclusive-ownership semantics.\n",
    "* By default, resource destruction takes place via `delete`, but `custom deleters` can be specified. Stateful deleters and function pointers as deleters increase the size of `std::unique_ptr` objects.\n",
    "* Converting a `std::unique_ptr` to a `std::shared_ptr` is easy.\n",
    "\n",
    "**Item 19**\n",
    "* `std::shared_ptr's` offer convenience approaching that of garbage collection for the shared lifetime management of arbitrary resources.\n",
    "* Compared to `std::unique_ptr`, `std::shared_ptr` objects are typically twice as big, incur overhead for `control blocks`, and require `atomic` `reference count` manipulations.\n",
    "* Default resource destruction is via `delete`, but `custom deleters` are supported. The type of the deleter has no effect on the type of the `std::shared_ptr`.\n",
    "* Avoid creating `std::shared_ptr's` from variables of raw pointer type.\n",
    "\n",
    "**Item 20**\n",
    "* Use `std::weak_ptr` for `std::shared_ptr`-like pointers that can dangle.\n",
    "* Potential use cases for `std::weak_ptr` include caching, observer lists, and the prevention of `std::shared_ptr` cycles.\n",
    "\n",
    "**Item 21**\n",
    "* Compared to direct use of `new`, `make functions` eliminate source code duplication, improve exception safety, and, for `std::make_shared` and `std::allocate_shared`, generate code that's smaller and faster.\n",
    "* Situations where use of make functions is inappropriate include the need to specify custom deleters and a desire to pass braced initializers.\n",
    "* For `std::shared_ptr's`, additional situations where make functions may be ill-advised include (1) classes with custom memory management and (2) systems with memory concerns, very large objects, and `std::weak_ptr's` that outlive the corresponding `std::shared_ptr's`.\n",
    "\n",
    "**Item 22**\n",
    "* The `Pimpl Idiom` decreases build times by reducing compilation dependencies between class clients and class implementations.\n",
    "* For `std::unique_ptr` _pImpl_ pointers, declare special member functions in the class header, but implement them in the implementation file. Do this even if the default function implementations are acceptable.\n",
    "* The above advice applies to `std::unique_ptr`, but not to `std::shared_ptr`.\n"
   ]
  },
  {
   "cell_type": "markdown",
   "metadata": {},
   "source": [
    "<hr>"
   ]
  },
  {
   "cell_type": "code",
   "execution_count": null,
   "metadata": {},
   "outputs": [],
   "source": [
    "# !pip3 install -U notebook-as-pdf\n",
    "!jupyter-nbconvert --to PDFviaHTML effective_modern_cpp.ipynb"
   ]
  }
 ],
 "metadata": {
  "kernelspec": {
   "display_name": "Python 3",
   "language": "python",
   "name": "python3"
  },
  "language_info": {
   "codemirror_mode": {
    "name": "ipython",
    "version": 3
   },
   "file_extension": ".py",
   "mimetype": "text/x-python",
   "name": "python",
   "nbconvert_exporter": "python",
   "pygments_lexer": "ipython3",
   "version": "3.8.5"
  }
 },
 "nbformat": 4,
 "nbformat_minor": 4
}
